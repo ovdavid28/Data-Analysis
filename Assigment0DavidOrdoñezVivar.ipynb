{
  "nbformat": 4,
  "nbformat_minor": 0,
  "metadata": {
    "colab": {
      "name": "Assigment0DavidOrdoñezVivar.ipynb",
      "version": "0.3.2",
      "provenance": [],
      "collapsed_sections": []
    },
    "kernelspec": {
      "name": "python3",
      "display_name": "Python 3"
    }
  },
  "cells": [
    {
      "metadata": {
        "id": "0CEWoX1Pbzcr",
        "colab_type": "text"
      },
      "cell_type": "markdown",
      "source": [
        "*Individual Assignment #0 - Basic data manipulation #DavidOrdoñezVivar*"
      ]
    },
    {
      "metadata": {
        "id": "h1ukkS2qb9kD",
        "colab_type": "text"
      },
      "cell_type": "markdown",
      "source": [
        "# **NYC Taxi Dataset**\n",
        "\n",
        "The first assignment is to answer some basic questions about a sample of the \"NYC Taxi Dataset\". The URLs were taken from https://github.com/toddwschneider/nyc-taxi-data/.\n",
        "\n",
        "Notice that, even though we will use only a subset, this needs around 2 GB of RAM, plus a margin to do the analysis! if your computer is not capable enough, you can use https://colab.research.google.com/, which gives you a Jupyter installation with 12 GB of RAM for free.\n",
        "\n",
        "1. Load https://s3.amazonaws.com/nyc-tlc/trip+data/yellow_tripdata_2017-10.csv into pandas, using an appropriate column as an index and parsing the columns that have dates\n",
        "2. Display the first 5 rows, a statistical summary, and the dtypes of the columns\n",
        "3. Do you find any inconsistency in fares or distance data? If so, remove them from the dataset\n",
        "4. Try to plot a histogram of the trip distance distribution. What happens? Try increasing the number of bins, normalizing the data, or using a logarithmic scale in the Y axis to actually see something\n",
        "5. What is the median trip distance per passenger count? Represent it in text and graphical form\n",
        "6. Create a new column payment_type_text that is 'Cash' if payment_type is 2 and 'Other' otherwise\n",
        "7. Bonus points: what is the correlation between leaving no tip and paying with cash? \n",
        "\n",
        "The grading will be as follows: 0.5 points for each correct answer above, and 1 extra point for overall presentation, aesthetics, code quality and originality. Yes: the maximum theoretical grade is thus 4.5 out of 4, but only 4 points will be awarded.\n",
        "\n",
        "The format of the delivery *must* be a Jupyter notebook that should run, top to bottom, without errors on a capable computer with Python 3.6. It should include explanations in the form of text cells, and code comments where appropriate."
      ]
    },
    {
      "metadata": {
        "id": "nPs2VKpFyp6D",
        "colab_type": "code",
        "colab": {}
      },
      "cell_type": "code",
      "source": [
        "import pandas as pd\n",
        "import numpy as np\n",
        "import datetime\n",
        "import matplotlib.pyplot as plt\n"
      ],
      "execution_count": 0,
      "outputs": []
    },
    {
      "metadata": {
        "id": "PZiALACR3-b6",
        "colab_type": "text"
      },
      "cell_type": "markdown",
      "source": [
        "#1.\n",
        "Load https://s3.amazonaws.com/nyc-tlc/trip+data/yellow_tripdata_2017-10.csv into pandas, using an appropriate column as an index and parsing the columns that have dates*\n",
        "\n",
        "\n"
      ]
    },
    {
      "metadata": {
        "id": "KSLl0Ywpy2fI",
        "colab_type": "code",
        "colab": {
          "base_uri": "https://localhost:8080/",
          "height": 218
        },
        "outputId": "e3c05d03-176d-46fa-a328-f3744a886045"
      },
      "cell_type": "code",
      "source": [
        "df=pd.read_csv('https://s3.amazonaws.com/nyc-tlc/trip+data/yellow_tripdata_2017-10.csv', parse_dates = ['tpep_pickup_datetime', 'tpep_dropoff_datetime'])\n",
        "df.head()"
      ],
      "execution_count": 3,
      "outputs": [
        {
          "output_type": "execute_result",
          "data": {
            "text/html": [
              "<div>\n",
              "<style scoped>\n",
              "    .dataframe tbody tr th:only-of-type {\n",
              "        vertical-align: middle;\n",
              "    }\n",
              "\n",
              "    .dataframe tbody tr th {\n",
              "        vertical-align: top;\n",
              "    }\n",
              "\n",
              "    .dataframe thead th {\n",
              "        text-align: right;\n",
              "    }\n",
              "</style>\n",
              "<table border=\"1\" class=\"dataframe\">\n",
              "  <thead>\n",
              "    <tr style=\"text-align: right;\">\n",
              "      <th></th>\n",
              "      <th>VendorID</th>\n",
              "      <th>tpep_pickup_datetime</th>\n",
              "      <th>tpep_dropoff_datetime</th>\n",
              "      <th>passenger_count</th>\n",
              "      <th>trip_distance</th>\n",
              "      <th>RatecodeID</th>\n",
              "      <th>store_and_fwd_flag</th>\n",
              "      <th>PULocationID</th>\n",
              "      <th>DOLocationID</th>\n",
              "      <th>payment_type</th>\n",
              "      <th>fare_amount</th>\n",
              "      <th>extra</th>\n",
              "      <th>mta_tax</th>\n",
              "      <th>tip_amount</th>\n",
              "      <th>tolls_amount</th>\n",
              "      <th>improvement_surcharge</th>\n",
              "      <th>total_amount</th>\n",
              "    </tr>\n",
              "  </thead>\n",
              "  <tbody>\n",
              "    <tr>\n",
              "      <th>0</th>\n",
              "      <td>1</td>\n",
              "      <td>2017-10-01 00:01:50</td>\n",
              "      <td>2017-10-01 00:14:13</td>\n",
              "      <td>1</td>\n",
              "      <td>2.00</td>\n",
              "      <td>1</td>\n",
              "      <td>N</td>\n",
              "      <td>142</td>\n",
              "      <td>233</td>\n",
              "      <td>2</td>\n",
              "      <td>10.0</td>\n",
              "      <td>0.5</td>\n",
              "      <td>0.5</td>\n",
              "      <td>0.00</td>\n",
              "      <td>0.0</td>\n",
              "      <td>0.3</td>\n",
              "      <td>11.30</td>\n",
              "    </tr>\n",
              "    <tr>\n",
              "      <th>1</th>\n",
              "      <td>1</td>\n",
              "      <td>2017-10-01 00:02:43</td>\n",
              "      <td>2017-10-01 00:08:35</td>\n",
              "      <td>2</td>\n",
              "      <td>2.30</td>\n",
              "      <td>1</td>\n",
              "      <td>N</td>\n",
              "      <td>142</td>\n",
              "      <td>166</td>\n",
              "      <td>1</td>\n",
              "      <td>8.0</td>\n",
              "      <td>0.5</td>\n",
              "      <td>0.5</td>\n",
              "      <td>1.85</td>\n",
              "      <td>0.0</td>\n",
              "      <td>0.3</td>\n",
              "      <td>11.15</td>\n",
              "    </tr>\n",
              "    <tr>\n",
              "      <th>2</th>\n",
              "      <td>1</td>\n",
              "      <td>2017-10-01 00:12:08</td>\n",
              "      <td>2017-10-01 00:25:49</td>\n",
              "      <td>3</td>\n",
              "      <td>2.80</td>\n",
              "      <td>1</td>\n",
              "      <td>N</td>\n",
              "      <td>151</td>\n",
              "      <td>262</td>\n",
              "      <td>1</td>\n",
              "      <td>13.0</td>\n",
              "      <td>0.5</td>\n",
              "      <td>0.5</td>\n",
              "      <td>1.72</td>\n",
              "      <td>0.0</td>\n",
              "      <td>0.3</td>\n",
              "      <td>16.02</td>\n",
              "    </tr>\n",
              "    <tr>\n",
              "      <th>3</th>\n",
              "      <td>2</td>\n",
              "      <td>2017-10-01 00:00:25</td>\n",
              "      <td>2017-10-01 00:11:24</td>\n",
              "      <td>1</td>\n",
              "      <td>1.97</td>\n",
              "      <td>1</td>\n",
              "      <td>N</td>\n",
              "      <td>100</td>\n",
              "      <td>229</td>\n",
              "      <td>1</td>\n",
              "      <td>9.5</td>\n",
              "      <td>0.5</td>\n",
              "      <td>0.5</td>\n",
              "      <td>1.00</td>\n",
              "      <td>0.0</td>\n",
              "      <td>0.3</td>\n",
              "      <td>11.80</td>\n",
              "    </tr>\n",
              "    <tr>\n",
              "      <th>4</th>\n",
              "      <td>2</td>\n",
              "      <td>2017-10-01 00:15:30</td>\n",
              "      <td>2017-10-01 00:25:11</td>\n",
              "      <td>1</td>\n",
              "      <td>2.17</td>\n",
              "      <td>1</td>\n",
              "      <td>N</td>\n",
              "      <td>141</td>\n",
              "      <td>142</td>\n",
              "      <td>1</td>\n",
              "      <td>9.0</td>\n",
              "      <td>0.5</td>\n",
              "      <td>0.5</td>\n",
              "      <td>2.06</td>\n",
              "      <td>0.0</td>\n",
              "      <td>0.3</td>\n",
              "      <td>12.36</td>\n",
              "    </tr>\n",
              "  </tbody>\n",
              "</table>\n",
              "</div>"
            ],
            "text/plain": [
              "   VendorID tpep_pickup_datetime tpep_dropoff_datetime  passenger_count  \\\n",
              "0         1  2017-10-01 00:01:50   2017-10-01 00:14:13                1   \n",
              "1         1  2017-10-01 00:02:43   2017-10-01 00:08:35                2   \n",
              "2         1  2017-10-01 00:12:08   2017-10-01 00:25:49                3   \n",
              "3         2  2017-10-01 00:00:25   2017-10-01 00:11:24                1   \n",
              "4         2  2017-10-01 00:15:30   2017-10-01 00:25:11                1   \n",
              "\n",
              "   trip_distance  RatecodeID store_and_fwd_flag  PULocationID  DOLocationID  \\\n",
              "0           2.00           1                  N           142           233   \n",
              "1           2.30           1                  N           142           166   \n",
              "2           2.80           1                  N           151           262   \n",
              "3           1.97           1                  N           100           229   \n",
              "4           2.17           1                  N           141           142   \n",
              "\n",
              "   payment_type  fare_amount  extra  mta_tax  tip_amount  tolls_amount  \\\n",
              "0             2         10.0    0.5      0.5        0.00           0.0   \n",
              "1             1          8.0    0.5      0.5        1.85           0.0   \n",
              "2             1         13.0    0.5      0.5        1.72           0.0   \n",
              "3             1          9.5    0.5      0.5        1.00           0.0   \n",
              "4             1          9.0    0.5      0.5        2.06           0.0   \n",
              "\n",
              "   improvement_surcharge  total_amount  \n",
              "0                    0.3         11.30  \n",
              "1                    0.3         11.15  \n",
              "2                    0.3         16.02  \n",
              "3                    0.3         11.80  \n",
              "4                    0.3         12.36  "
            ]
          },
          "metadata": {
            "tags": []
          },
          "execution_count": 3
        }
      ]
    },
    {
      "metadata": {
        "id": "q0TtVCr_CxhX",
        "colab_type": "text"
      },
      "cell_type": "markdown",
      "source": [
        "#2.\n",
        "Display the first 5 rows, a statistical summary, and the dtypes of the columns"
      ]
    },
    {
      "metadata": {
        "id": "TVdoFsN9C2o0",
        "colab_type": "code",
        "colab": {
          "base_uri": "https://localhost:8080/",
          "height": 218
        },
        "outputId": "9895a1b0-95d5-4b40-ec80-5c212c32620c"
      },
      "cell_type": "code",
      "source": [
        "df.head()\n"
      ],
      "execution_count": 15,
      "outputs": [
        {
          "output_type": "execute_result",
          "data": {
            "text/html": [
              "<div>\n",
              "<style scoped>\n",
              "    .dataframe tbody tr th:only-of-type {\n",
              "        vertical-align: middle;\n",
              "    }\n",
              "\n",
              "    .dataframe tbody tr th {\n",
              "        vertical-align: top;\n",
              "    }\n",
              "\n",
              "    .dataframe thead th {\n",
              "        text-align: right;\n",
              "    }\n",
              "</style>\n",
              "<table border=\"1\" class=\"dataframe\">\n",
              "  <thead>\n",
              "    <tr style=\"text-align: right;\">\n",
              "      <th></th>\n",
              "      <th>VendorID</th>\n",
              "      <th>tpep_pickup_datetime</th>\n",
              "      <th>tpep_dropoff_datetime</th>\n",
              "      <th>passenger_count</th>\n",
              "      <th>trip_distance</th>\n",
              "      <th>RatecodeID</th>\n",
              "      <th>store_and_fwd_flag</th>\n",
              "      <th>PULocationID</th>\n",
              "      <th>DOLocationID</th>\n",
              "      <th>payment_type</th>\n",
              "      <th>fare_amount</th>\n",
              "      <th>extra</th>\n",
              "      <th>mta_tax</th>\n",
              "      <th>tip_amount</th>\n",
              "      <th>tolls_amount</th>\n",
              "      <th>improvement_surcharge</th>\n",
              "      <th>total_amount</th>\n",
              "    </tr>\n",
              "  </thead>\n",
              "  <tbody>\n",
              "    <tr>\n",
              "      <th>0</th>\n",
              "      <td>1</td>\n",
              "      <td>2017-10-01 00:01:50</td>\n",
              "      <td>2017-10-01 00:14:13</td>\n",
              "      <td>1</td>\n",
              "      <td>2.00</td>\n",
              "      <td>1</td>\n",
              "      <td>N</td>\n",
              "      <td>142</td>\n",
              "      <td>233</td>\n",
              "      <td>2</td>\n",
              "      <td>10.0</td>\n",
              "      <td>0.5</td>\n",
              "      <td>0.5</td>\n",
              "      <td>0.00</td>\n",
              "      <td>0.0</td>\n",
              "      <td>0.3</td>\n",
              "      <td>11.30</td>\n",
              "    </tr>\n",
              "    <tr>\n",
              "      <th>1</th>\n",
              "      <td>1</td>\n",
              "      <td>2017-10-01 00:02:43</td>\n",
              "      <td>2017-10-01 00:08:35</td>\n",
              "      <td>2</td>\n",
              "      <td>2.30</td>\n",
              "      <td>1</td>\n",
              "      <td>N</td>\n",
              "      <td>142</td>\n",
              "      <td>166</td>\n",
              "      <td>1</td>\n",
              "      <td>8.0</td>\n",
              "      <td>0.5</td>\n",
              "      <td>0.5</td>\n",
              "      <td>1.85</td>\n",
              "      <td>0.0</td>\n",
              "      <td>0.3</td>\n",
              "      <td>11.15</td>\n",
              "    </tr>\n",
              "    <tr>\n",
              "      <th>2</th>\n",
              "      <td>1</td>\n",
              "      <td>2017-10-01 00:12:08</td>\n",
              "      <td>2017-10-01 00:25:49</td>\n",
              "      <td>3</td>\n",
              "      <td>2.80</td>\n",
              "      <td>1</td>\n",
              "      <td>N</td>\n",
              "      <td>151</td>\n",
              "      <td>262</td>\n",
              "      <td>1</td>\n",
              "      <td>13.0</td>\n",
              "      <td>0.5</td>\n",
              "      <td>0.5</td>\n",
              "      <td>1.72</td>\n",
              "      <td>0.0</td>\n",
              "      <td>0.3</td>\n",
              "      <td>16.02</td>\n",
              "    </tr>\n",
              "    <tr>\n",
              "      <th>3</th>\n",
              "      <td>2</td>\n",
              "      <td>2017-10-01 00:00:25</td>\n",
              "      <td>2017-10-01 00:11:24</td>\n",
              "      <td>1</td>\n",
              "      <td>1.97</td>\n",
              "      <td>1</td>\n",
              "      <td>N</td>\n",
              "      <td>100</td>\n",
              "      <td>229</td>\n",
              "      <td>1</td>\n",
              "      <td>9.5</td>\n",
              "      <td>0.5</td>\n",
              "      <td>0.5</td>\n",
              "      <td>1.00</td>\n",
              "      <td>0.0</td>\n",
              "      <td>0.3</td>\n",
              "      <td>11.80</td>\n",
              "    </tr>\n",
              "    <tr>\n",
              "      <th>4</th>\n",
              "      <td>2</td>\n",
              "      <td>2017-10-01 00:15:30</td>\n",
              "      <td>2017-10-01 00:25:11</td>\n",
              "      <td>1</td>\n",
              "      <td>2.17</td>\n",
              "      <td>1</td>\n",
              "      <td>N</td>\n",
              "      <td>141</td>\n",
              "      <td>142</td>\n",
              "      <td>1</td>\n",
              "      <td>9.0</td>\n",
              "      <td>0.5</td>\n",
              "      <td>0.5</td>\n",
              "      <td>2.06</td>\n",
              "      <td>0.0</td>\n",
              "      <td>0.3</td>\n",
              "      <td>12.36</td>\n",
              "    </tr>\n",
              "  </tbody>\n",
              "</table>\n",
              "</div>"
            ],
            "text/plain": [
              "   VendorID tpep_pickup_datetime tpep_dropoff_datetime  passenger_count  \\\n",
              "0         1  2017-10-01 00:01:50   2017-10-01 00:14:13                1   \n",
              "1         1  2017-10-01 00:02:43   2017-10-01 00:08:35                2   \n",
              "2         1  2017-10-01 00:12:08   2017-10-01 00:25:49                3   \n",
              "3         2  2017-10-01 00:00:25   2017-10-01 00:11:24                1   \n",
              "4         2  2017-10-01 00:15:30   2017-10-01 00:25:11                1   \n",
              "\n",
              "   trip_distance  RatecodeID store_and_fwd_flag  PULocationID  DOLocationID  \\\n",
              "0           2.00           1                  N           142           233   \n",
              "1           2.30           1                  N           142           166   \n",
              "2           2.80           1                  N           151           262   \n",
              "3           1.97           1                  N           100           229   \n",
              "4           2.17           1                  N           141           142   \n",
              "\n",
              "   payment_type  fare_amount  extra  mta_tax  tip_amount  tolls_amount  \\\n",
              "0             2         10.0    0.5      0.5        0.00           0.0   \n",
              "1             1          8.0    0.5      0.5        1.85           0.0   \n",
              "2             1         13.0    0.5      0.5        1.72           0.0   \n",
              "3             1          9.5    0.5      0.5        1.00           0.0   \n",
              "4             1          9.0    0.5      0.5        2.06           0.0   \n",
              "\n",
              "   improvement_surcharge  total_amount  \n",
              "0                    0.3         11.30  \n",
              "1                    0.3         11.15  \n",
              "2                    0.3         16.02  \n",
              "3                    0.3         11.80  \n",
              "4                    0.3         12.36  "
            ]
          },
          "metadata": {
            "tags": []
          },
          "execution_count": 15
        }
      ]
    },
    {
      "metadata": {
        "id": "BvdUc8d3dpOu",
        "colab_type": "code",
        "colab": {
          "base_uri": "https://localhost:8080/",
          "height": 325
        },
        "outputId": "88687aee-a63f-4003-e6fc-7d0d26102ade"
      },
      "cell_type": "code",
      "source": [
        "df.describe()\n"
      ],
      "execution_count": 16,
      "outputs": [
        {
          "output_type": "execute_result",
          "data": {
            "text/html": [
              "<div>\n",
              "<style scoped>\n",
              "    .dataframe tbody tr th:only-of-type {\n",
              "        vertical-align: middle;\n",
              "    }\n",
              "\n",
              "    .dataframe tbody tr th {\n",
              "        vertical-align: top;\n",
              "    }\n",
              "\n",
              "    .dataframe thead th {\n",
              "        text-align: right;\n",
              "    }\n",
              "</style>\n",
              "<table border=\"1\" class=\"dataframe\">\n",
              "  <thead>\n",
              "    <tr style=\"text-align: right;\">\n",
              "      <th></th>\n",
              "      <th>VendorID</th>\n",
              "      <th>passenger_count</th>\n",
              "      <th>trip_distance</th>\n",
              "      <th>RatecodeID</th>\n",
              "      <th>PULocationID</th>\n",
              "      <th>DOLocationID</th>\n",
              "      <th>payment_type</th>\n",
              "      <th>fare_amount</th>\n",
              "      <th>extra</th>\n",
              "      <th>mta_tax</th>\n",
              "      <th>tip_amount</th>\n",
              "      <th>tolls_amount</th>\n",
              "      <th>improvement_surcharge</th>\n",
              "      <th>total_amount</th>\n",
              "    </tr>\n",
              "  </thead>\n",
              "  <tbody>\n",
              "    <tr>\n",
              "      <th>count</th>\n",
              "      <td>9.768815e+06</td>\n",
              "      <td>9.768815e+06</td>\n",
              "      <td>9.768815e+06</td>\n",
              "      <td>9.768815e+06</td>\n",
              "      <td>9.768815e+06</td>\n",
              "      <td>9.768815e+06</td>\n",
              "      <td>9.768815e+06</td>\n",
              "      <td>9.768815e+06</td>\n",
              "      <td>9.768815e+06</td>\n",
              "      <td>9.768815e+06</td>\n",
              "      <td>9.768815e+06</td>\n",
              "      <td>9.768815e+06</td>\n",
              "      <td>9.768815e+06</td>\n",
              "      <td>9.768815e+06</td>\n",
              "    </tr>\n",
              "    <tr>\n",
              "      <th>mean</th>\n",
              "      <td>1.549415e+00</td>\n",
              "      <td>1.617468e+00</td>\n",
              "      <td>2.964095e+00</td>\n",
              "      <td>1.045011e+00</td>\n",
              "      <td>1.630937e+02</td>\n",
              "      <td>1.612835e+02</td>\n",
              "      <td>1.328251e+00</td>\n",
              "      <td>1.338078e+01</td>\n",
              "      <td>3.300792e-01</td>\n",
              "      <td>4.972671e-01</td>\n",
              "      <td>1.883138e+00</td>\n",
              "      <td>3.479925e-01</td>\n",
              "      <td>2.996095e-01</td>\n",
              "      <td>1.674133e+01</td>\n",
              "    </tr>\n",
              "    <tr>\n",
              "      <th>std</th>\n",
              "      <td>4.975522e-01</td>\n",
              "      <td>1.259104e+00</td>\n",
              "      <td>3.814063e+00</td>\n",
              "      <td>4.748632e-01</td>\n",
              "      <td>6.624797e+01</td>\n",
              "      <td>7.015271e+01</td>\n",
              "      <td>4.901289e-01</td>\n",
              "      <td>3.078552e+02</td>\n",
              "      <td>4.644125e-01</td>\n",
              "      <td>1.177005e-01</td>\n",
              "      <td>2.634506e+00</td>\n",
              "      <td>1.696558e+00</td>\n",
              "      <td>1.438805e-02</td>\n",
              "      <td>3.079748e+02</td>\n",
              "    </tr>\n",
              "    <tr>\n",
              "      <th>min</th>\n",
              "      <td>1.000000e+00</td>\n",
              "      <td>0.000000e+00</td>\n",
              "      <td>0.000000e+00</td>\n",
              "      <td>1.000000e+00</td>\n",
              "      <td>1.000000e+00</td>\n",
              "      <td>1.000000e+00</td>\n",
              "      <td>1.000000e+00</td>\n",
              "      <td>-4.600000e+02</td>\n",
              "      <td>-5.800000e+01</td>\n",
              "      <td>-5.000000e-01</td>\n",
              "      <td>-4.100000e+01</td>\n",
              "      <td>-1.500000e+01</td>\n",
              "      <td>-3.000000e-01</td>\n",
              "      <td>-4.603000e+02</td>\n",
              "    </tr>\n",
              "    <tr>\n",
              "      <th>25%</th>\n",
              "      <td>1.000000e+00</td>\n",
              "      <td>1.000000e+00</td>\n",
              "      <td>1.000000e+00</td>\n",
              "      <td>1.000000e+00</td>\n",
              "      <td>1.140000e+02</td>\n",
              "      <td>1.120000e+02</td>\n",
              "      <td>1.000000e+00</td>\n",
              "      <td>6.500000e+00</td>\n",
              "      <td>0.000000e+00</td>\n",
              "      <td>5.000000e-01</td>\n",
              "      <td>0.000000e+00</td>\n",
              "      <td>0.000000e+00</td>\n",
              "      <td>3.000000e-01</td>\n",
              "      <td>8.760000e+00</td>\n",
              "    </tr>\n",
              "    <tr>\n",
              "      <th>50%</th>\n",
              "      <td>2.000000e+00</td>\n",
              "      <td>1.000000e+00</td>\n",
              "      <td>1.650000e+00</td>\n",
              "      <td>1.000000e+00</td>\n",
              "      <td>1.620000e+02</td>\n",
              "      <td>1.620000e+02</td>\n",
              "      <td>1.000000e+00</td>\n",
              "      <td>9.500000e+00</td>\n",
              "      <td>0.000000e+00</td>\n",
              "      <td>5.000000e-01</td>\n",
              "      <td>1.360000e+00</td>\n",
              "      <td>0.000000e+00</td>\n",
              "      <td>3.000000e-01</td>\n",
              "      <td>1.225000e+01</td>\n",
              "    </tr>\n",
              "    <tr>\n",
              "      <th>75%</th>\n",
              "      <td>2.000000e+00</td>\n",
              "      <td>2.000000e+00</td>\n",
              "      <td>3.070000e+00</td>\n",
              "      <td>1.000000e+00</td>\n",
              "      <td>2.330000e+02</td>\n",
              "      <td>2.330000e+02</td>\n",
              "      <td>2.000000e+00</td>\n",
              "      <td>1.500000e+01</td>\n",
              "      <td>5.000000e-01</td>\n",
              "      <td>5.000000e-01</td>\n",
              "      <td>2.460000e+00</td>\n",
              "      <td>0.000000e+00</td>\n",
              "      <td>3.000000e-01</td>\n",
              "      <td>1.830000e+01</td>\n",
              "    </tr>\n",
              "    <tr>\n",
              "      <th>max</th>\n",
              "      <td>2.000000e+00</td>\n",
              "      <td>9.000000e+00</td>\n",
              "      <td>1.178600e+03</td>\n",
              "      <td>9.900000e+01</td>\n",
              "      <td>2.650000e+02</td>\n",
              "      <td>2.650000e+02</td>\n",
              "      <td>4.000000e+00</td>\n",
              "      <td>8.616024e+05</td>\n",
              "      <td>9.600000e+01</td>\n",
              "      <td>2.500000e+02</td>\n",
              "      <td>4.445000e+02</td>\n",
              "      <td>9.296500e+02</td>\n",
              "      <td>1.000000e+00</td>\n",
              "      <td>8.616032e+05</td>\n",
              "    </tr>\n",
              "  </tbody>\n",
              "</table>\n",
              "</div>"
            ],
            "text/plain": [
              "           VendorID  passenger_count  trip_distance    RatecodeID  \\\n",
              "count  9.768815e+06     9.768815e+06   9.768815e+06  9.768815e+06   \n",
              "mean   1.549415e+00     1.617468e+00   2.964095e+00  1.045011e+00   \n",
              "std    4.975522e-01     1.259104e+00   3.814063e+00  4.748632e-01   \n",
              "min    1.000000e+00     0.000000e+00   0.000000e+00  1.000000e+00   \n",
              "25%    1.000000e+00     1.000000e+00   1.000000e+00  1.000000e+00   \n",
              "50%    2.000000e+00     1.000000e+00   1.650000e+00  1.000000e+00   \n",
              "75%    2.000000e+00     2.000000e+00   3.070000e+00  1.000000e+00   \n",
              "max    2.000000e+00     9.000000e+00   1.178600e+03  9.900000e+01   \n",
              "\n",
              "       PULocationID  DOLocationID  payment_type   fare_amount         extra  \\\n",
              "count  9.768815e+06  9.768815e+06  9.768815e+06  9.768815e+06  9.768815e+06   \n",
              "mean   1.630937e+02  1.612835e+02  1.328251e+00  1.338078e+01  3.300792e-01   \n",
              "std    6.624797e+01  7.015271e+01  4.901289e-01  3.078552e+02  4.644125e-01   \n",
              "min    1.000000e+00  1.000000e+00  1.000000e+00 -4.600000e+02 -5.800000e+01   \n",
              "25%    1.140000e+02  1.120000e+02  1.000000e+00  6.500000e+00  0.000000e+00   \n",
              "50%    1.620000e+02  1.620000e+02  1.000000e+00  9.500000e+00  0.000000e+00   \n",
              "75%    2.330000e+02  2.330000e+02  2.000000e+00  1.500000e+01  5.000000e-01   \n",
              "max    2.650000e+02  2.650000e+02  4.000000e+00  8.616024e+05  9.600000e+01   \n",
              "\n",
              "            mta_tax    tip_amount  tolls_amount  improvement_surcharge  \\\n",
              "count  9.768815e+06  9.768815e+06  9.768815e+06           9.768815e+06   \n",
              "mean   4.972671e-01  1.883138e+00  3.479925e-01           2.996095e-01   \n",
              "std    1.177005e-01  2.634506e+00  1.696558e+00           1.438805e-02   \n",
              "min   -5.000000e-01 -4.100000e+01 -1.500000e+01          -3.000000e-01   \n",
              "25%    5.000000e-01  0.000000e+00  0.000000e+00           3.000000e-01   \n",
              "50%    5.000000e-01  1.360000e+00  0.000000e+00           3.000000e-01   \n",
              "75%    5.000000e-01  2.460000e+00  0.000000e+00           3.000000e-01   \n",
              "max    2.500000e+02  4.445000e+02  9.296500e+02           1.000000e+00   \n",
              "\n",
              "       total_amount  \n",
              "count  9.768815e+06  \n",
              "mean   1.674133e+01  \n",
              "std    3.079748e+02  \n",
              "min   -4.603000e+02  \n",
              "25%    8.760000e+00  \n",
              "50%    1.225000e+01  \n",
              "75%    1.830000e+01  \n",
              "max    8.616032e+05  "
            ]
          },
          "metadata": {
            "tags": []
          },
          "execution_count": 16
        }
      ]
    },
    {
      "metadata": {
        "id": "rg3yNPCFdwHy",
        "colab_type": "code",
        "colab": {
          "base_uri": "https://localhost:8080/",
          "height": 345
        },
        "outputId": "19845975-227f-415e-a4aa-eaed15098ca6"
      },
      "cell_type": "code",
      "source": [
        "df.dtypes"
      ],
      "execution_count": 17,
      "outputs": [
        {
          "output_type": "execute_result",
          "data": {
            "text/plain": [
              "VendorID                          int64\n",
              "tpep_pickup_datetime     datetime64[ns]\n",
              "tpep_dropoff_datetime    datetime64[ns]\n",
              "passenger_count                   int64\n",
              "trip_distance                   float64\n",
              "RatecodeID                        int64\n",
              "store_and_fwd_flag               object\n",
              "PULocationID                      int64\n",
              "DOLocationID                      int64\n",
              "payment_type                      int64\n",
              "fare_amount                     float64\n",
              "extra                           float64\n",
              "mta_tax                         float64\n",
              "tip_amount                      float64\n",
              "tolls_amount                    float64\n",
              "improvement_surcharge           float64\n",
              "total_amount                    float64\n",
              "dtype: object"
            ]
          },
          "metadata": {
            "tags": []
          },
          "execution_count": 17
        }
      ]
    },
    {
      "metadata": {
        "id": "aC7mlN1-DezA",
        "colab_type": "text"
      },
      "cell_type": "markdown",
      "source": [
        "#3. \n",
        "Do you find any inconsistency in fares or distance data? If so, remove them from the dataset\n"
      ]
    },
    {
      "metadata": {
        "id": "UaBxPAsF3GXb",
        "colab_type": "code",
        "colab": {
          "base_uri": "https://localhost:8080/",
          "height": 369
        },
        "outputId": "18ace884-401e-43d3-871d-a1603384fd9f"
      },
      "cell_type": "code",
      "source": [
        "df['trip_distance'].plot.hist(bins=100,logy=True,logx=True)\n",
        "#x=trip distance\n",
        "#y=count"
      ],
      "execution_count": 5,
      "outputs": [
        {
          "output_type": "execute_result",
          "data": {
            "text/plain": [
              "<matplotlib.axes._subplots.AxesSubplot at 0x7f920a30cc18>"
            ]
          },
          "metadata": {
            "tags": []
          },
          "execution_count": 5
        },
        {
          "output_type": "display_data",
          "data": {
            "image/png": "[encoded data removed]",
            "text/plain": [
              "<matplotlib.figure.Figure at 0x7f9222d34e48>"
            ]
          },
          "metadata": {
            "tags": []
          }
        }
      ]
    },
    {
      "metadata": {
        "id": "RcW754tweWhG",
        "colab_type": "text"
      },
      "cell_type": "markdown",
      "source": [
        "## Inconsistency  in distance data\n",
        "\n",
        "\n"
      ]
    },
    {
      "metadata": {
        "id": "pz0J6ehId8-R",
        "colab_type": "text"
      },
      "cell_type": "markdown",
      "source": [
        "In order to find any inconsistency we are going to use the standard deviation that shows how much the individual data points are spread out from the mean.\n",
        "\n",
        "We can start out and review the spread of each attribute by looking at box"
      ]
    },
    {
      "metadata": {
        "id": "CAtLSLhLLWxQ",
        "colab_type": "code",
        "colab": {
          "base_uri": "https://localhost:8080/",
          "height": 365
        },
        "outputId": "3ea59c14-0ba1-431b-889c-ae39cb59657b"
      },
      "cell_type": "code",
      "source": [
        "\n",
        "df.boxplot(column='trip_distance')\n",
        "plt.boxplot(df['trip_distance'], 0, 'gD')\n",
        "plt.title('Trip distance spread')\n",
        "plt.ylabel('Trip distance')\n",
        "plt.show()\n",
        "\n",
        "\n"
      ],
      "execution_count": 19,
      "outputs": [
        {
          "output_type": "display_data",
          "data": {
            "image/png": "[encoded data removed]",
            "text/plain": [
              "<matplotlib.figure.Figure at 0x7f0cdc45e9e8>"
            ]
          },
          "metadata": {
            "tags": []
          }
        }
      ]
    },
    {
      "metadata": {
        "id": "p0ORjLkLUgxm",
        "colab_type": "text"
      },
      "cell_type": "markdown",
      "source": [
        "We can see that the test attribute has a lot of outliers, hight to 1200. \n",
        "\n",
        "This show us that some of these values are observations that lies an abnormal distance from other values."
      ]
    },
    {
      "metadata": {
        "id": "9qNkD1C6UiSG",
        "colab_type": "code",
        "colab": {}
      },
      "cell_type": "code",
      "source": [
        "import scipy\n",
        "from scipy.stats import norm\n",
        "from matplotlib.mlab import normpdf"
      ],
      "execution_count": 0,
      "outputs": []
    },
    {
      "metadata": {
        "id": "Os6Fg2Ddgaas",
        "colab_type": "text"
      },
      "cell_type": "markdown",
      "source": [
        "Other way of showing these outliers is this histogram showed below.\n",
        "\n",
        "My goal in this case was to show something like this:\n",
        "\n",
        "\n",
        "![Imagen](https://upload.wikimedia.org/wikipedia/commons/8/8c/Standard_deviation_diagram.svg)"
      ]
    },
    {
      "metadata": {
        "id": "bGKOQN_XmSDC",
        "colab_type": "text"
      },
      "cell_type": "markdown",
      "source": [
        "After a long search trying to find the best way of doing it, I found this code.\n",
        "https://stackoverflow.com/questions/49630427/how-to-plot-normal-distribution-with-percentage-of-data-as-label-in-each-band-bi\n",
        "\n",
        "I found this very interesting and I tried to apply it to our data. I think it's very interesting and I think it would be good to go through it in lessons.\n"
      ]
    },
    {
      "metadata": {
        "id": "59CB3VpNao7o",
        "colab_type": "code",
        "colab": {
          "base_uri": "https://localhost:8080/",
          "height": 477
        },
        "outputId": "4392abbd-2cc9-433e-cbb1-e2f198a77c99"
      },
      "cell_type": "code",
      "source": [
        "\n",
        "# dummy data\n",
        "mu = df['trip_distance'].mean()\n",
        "sigma = df['trip_distance'].std()\n",
        "n_bins = 500\n",
        "s = np.array(df['trip_distance'])\n",
        "\n",
        "print(df['trip_distance'].min())\n",
        "print(df['trip_distance'].max())\n",
        "\n",
        "\n",
        "fig, axes = plt.subplots(nrows=2, ncols=1, sharex=True)\n",
        "\n",
        "#histogram\n",
        "n, bins, patches = axes[1].hist(s, n_bins, normed=True, alpha=.1, edgecolor='black' )\n",
        "pdf = 1/(sigma*np.sqrt(2*np.pi))*np.exp(-(bins-mu)**2/(2*sigma**2))\n",
        "\n",
        "median, q1, q3 = np.percentile(s, 50), np.percentile(s, 25), np.percentile(s, 75)\n",
        "print(q1, median, q3)\n",
        "\n",
        "#probability density function\n",
        "axes[1].plot(bins, pdf, color='orange', alpha=.6)\n",
        "\n",
        "#to ensure pdf and bins line up to use fill_between.\n",
        "bins_1 = bins[(bins >= q1-1.5*(q3-q1)) & (bins <= q1)] # to ensure fill starts from Q1-1.5*IQR\n",
        "bins_2 = bins[(bins <= q3+1.5*(q3-q1)) & (bins >= q3)]\n",
        "pdf_1 = pdf[:int(len(pdf)/2)]\n",
        "pdf_2 = pdf[int(len(pdf)/2):]\n",
        "pdf_1 = pdf_1[(pdf_1 >= norm(mu,sigma).pdf(q1-1.5*(q3-q1))) & (pdf_1 <= norm(mu,sigma).pdf(q1))]\n",
        "pdf_2 = pdf_2[(pdf_2 >= norm(mu,sigma).pdf(q3+1.5*(q3-q1))) & (pdf_2 <= norm(mu,sigma).pdf(q3))]\n",
        "\n",
        "#fill from Q1-1.5*IQR to Q1 and Q3 to Q3+1.5*IQR\n",
        "axes[1].fill_between(bins_1, pdf_1, 0, alpha=.6, color='orange')\n",
        "axes[1].fill_between(bins_2, pdf_2, 0, alpha=.6, color='orange')\n",
        "\n",
        "print(norm(mu, sigma).cdf(median))#Cumulative density function.\n",
        "print(norm(mu, sigma).pdf(median))\n",
        "\n",
        "#add text to bottom graph.\n",
        "axes[1].annotate(\"{:.1f}%\".format(100*norm(mu, sigma).cdf(q1)), xy=((q1-1.5*(q3-q1)+q1)/2, 0), ha='center')\n",
        "axes[1].annotate(\"{:.1f}%\".format(100*(norm(mu, sigma).cdf(q3)-norm(mu, sigma).cdf(q1))), xy=(median, 0), ha='center')\n",
        "axes[1].annotate(\"{:.1f}%\".format(100*(norm(mu, sigma).cdf(q3+1.5*(q3-q1)-q3)-norm(mu, sigma).cdf(q3))), xy=((q3+1.5*(q3-q1)+q3)/2, 0), ha='center')\n",
        "axes[1].annotate('q1', xy=(q1, norm(mu, sigma).pdf(q1)), ha='center')\n",
        "axes[1].annotate('q3', xy=(q3, norm(mu, sigma).pdf(q3)), ha='center')\n",
        "\n",
        "axes[1].set_ylabel('probability')\n",
        "\n",
        "plt.subplots_adjust(hspace=0)\n",
        "plt.xlim(0, 15)\n",
        "\n",
        "plt.show()\n",
        "\n"
      ],
      "execution_count": 33,
      "outputs": [
        {
          "output_type": "stream",
          "text": [
            "0.0\n",
            "1178.6\n",
            "1.0 1.65 3.07\n",
            "0.3652203081374199\n",
            "0.09857011203797357\n"
          ],
          "name": "stdout"
        },
        {
          "output_type": "display_data",
          "data": {
            "image/png": "[encoded data removed]",
            "text/plain": [
              "<matplotlib.figure.Figure at 0x7fce30620f28>"
            ]
          },
          "metadata": {
            "tags": []
          }
        }
      ]
    },
    {
      "metadata": {
        "id": "MH45K1sMM7el",
        "colab_type": "text"
      },
      "cell_type": "markdown",
      "source": [
        " The value for standard deviation defines a range above and below the mean for which a certain percentage of the data lie.\n",
        "\n",
        " "
      ]
    },
    {
      "metadata": {
        "id": "SaZPOCqjNnU_",
        "colab_type": "text"
      },
      "cell_type": "markdown",
      "source": [
        "Thanks to the histogram and the boxplot we see that in the data of the distance of the trip, we have some values that go far from the average, so we can assume that they are erroneous values, so we proceed to remove them.\n",
        "\n",
        "I have consider that if the distance of the trip is lower than 0 and higher than 10 the value is not useful and I am going to replace these values for the mediam value."
      ]
    },
    {
      "metadata": {
        "id": "15ZMUjhuQdqe",
        "colab_type": "code",
        "colab": {
          "base_uri": "https://localhost:8080/",
          "height": 545
        },
        "outputId": "74c03c31-0623-4938-e93d-8e39e6db4684"
      },
      "cell_type": "code",
      "source": [
        "df['trip_distance'].mean()\n",
        "\n",
        "df['trip_distance'][df['trip_distance']>10]=2.9640951282217993\n",
        "df['trip_distance'][df['trip_distance']<=0]=2.9640951282217993\n",
        "\n",
        "df.loc[(df['trip_distance']==2.9640951282217993)].count()\n",
        "#df['trip_distance'].head()\n"
      ],
      "execution_count": 13,
      "outputs": [
        {
          "output_type": "stream",
          "text": [
            "/usr/local/lib/python3.6/dist-packages/ipykernel_launcher.py:3: SettingWithCopyWarning: \n",
            "A value is trying to be set on a copy of a slice from a DataFrame\n",
            "\n",
            "See the caveats in the documentation: http://pandas.pydata.org/pandas-docs/stable/indexing.html#indexing-view-versus-copy\n",
            "  This is separate from the ipykernel package so we can avoid doing imports until\n",
            "/usr/local/lib/python3.6/dist-packages/ipykernel_launcher.py:4: SettingWithCopyWarning: \n",
            "A value is trying to be set on a copy of a slice from a DataFrame\n",
            "\n",
            "See the caveats in the documentation: http://pandas.pydata.org/pandas-docs/stable/indexing.html#indexing-view-versus-copy\n",
            "  after removing the cwd from sys.path.\n"
          ],
          "name": "stderr"
        },
        {
          "output_type": "execute_result",
          "data": {
            "text/plain": [
              "VendorID                 655245\n",
              "tpep_pickup_datetime     655245\n",
              "tpep_dropoff_datetime    655245\n",
              "passenger_count          655245\n",
              "trip_distance            655245\n",
              "RatecodeID               655245\n",
              "store_and_fwd_flag       655245\n",
              "PULocationID             655245\n",
              "DOLocationID             655245\n",
              "payment_type             655245\n",
              "fare_amount              655245\n",
              "extra                    655245\n",
              "mta_tax                  655245\n",
              "tip_amount               655245\n",
              "tolls_amount             655245\n",
              "improvement_surcharge    655245\n",
              "total_amount             655245\n",
              "payment_type_text        655245\n",
              "dtype: int64"
            ]
          },
          "metadata": {
            "tags": []
          },
          "execution_count": 13
        }
      ]
    },
    {
      "metadata": {
        "id": "JBB5iatldRSl",
        "colab_type": "text"
      },
      "cell_type": "markdown",
      "source": [
        "## Inconsistency in fares data\n",
        "\n",
        "\n"
      ]
    },
    {
      "metadata": {
        "id": "nPrZDO9boFUC",
        "colab_type": "text"
      },
      "cell_type": "markdown",
      "source": [
        "In order to find any inconsistency we are going to use the standard deviation that shows how much the individual data points are spread out from the mean.\n",
        "\n",
        "We can start out and review the spread of each attribute by looking at box"
      ]
    },
    {
      "metadata": {
        "id": "sTkuxU0SoG10",
        "colab_type": "code",
        "colab": {
          "base_uri": "https://localhost:8080/",
          "height": 363
        },
        "outputId": "153969c9-e715-4fa8-833e-1282ed8c3648"
      },
      "cell_type": "code",
      "source": [
        "df.boxplot(column='fare_amount')\n",
        "plt.boxplot(df['fare_amount'], 0, 'gD')\n",
        "plt.title('Fare_amount spread')\n",
        "plt.ylabel('Fare_amount')\n",
        "plt.show()\n"
      ],
      "execution_count": 35,
      "outputs": [
        {
          "output_type": "display_data",
          "data": {
            "image/png": "[encoded data removed]",
            "text/plain": [
              "<matplotlib.figure.Figure at 0x7fce183c5278>"
            ]
          },
          "metadata": {
            "tags": []
          }
        }
      ]
    },
    {
      "metadata": {
        "id": "KNrgObf8okwd",
        "colab_type": "text"
      },
      "cell_type": "markdown",
      "source": [
        "We can see that the test attribute has a lot of outliers, hight to 800000. \n",
        "\n",
        "This show us that some of these values are observations that lies an abnormal distance from other values."
      ]
    },
    {
      "metadata": {
        "id": "xT45rqaFpmYr",
        "colab_type": "text"
      },
      "cell_type": "markdown",
      "source": [
        "Other way of showing these outliers is this histogram showed below.\n"
      ]
    },
    {
      "metadata": {
        "id": "ta8h1K0ZpoH3",
        "colab_type": "code",
        "colab": {
          "base_uri": "https://localhost:8080/",
          "height": 477
        },
        "outputId": "a05884c1-a3a7-4a74-bcc0-734e9e91ecd1"
      },
      "cell_type": "code",
      "source": [
        "# dummy data\n",
        "mu = df['fare_amount'].mean()\n",
        "sigma = df['fare_amount'].std()\n",
        "n_bins = 50\n",
        "s = np.array(df['fare_amount'])\n",
        "\n",
        "print(df['fare_amount'].min())\n",
        "print(df['fare_amount'].max())\n",
        "\n",
        "\n",
        "fig, axes = plt.subplots(nrows=2, ncols=1, sharex=True)\n",
        "\n",
        "#histogram\n",
        "n, bins, patches = axes[1].hist(s, n_bins, normed=True, alpha=.1, edgecolor='black' )\n",
        "pdf = 1/(sigma*np.sqrt(2*np.pi))*np.exp(-(bins-mu)**2/(2*sigma**2))\n",
        "\n",
        "median, q1, q3 = np.percentile(s, 50), np.percentile(s, 25), np.percentile(s, 75)\n",
        "print(q1, median, q3)\n",
        "\n",
        "#probability density function\n",
        "axes[1].plot(bins, pdf, color='orange', alpha=.6)\n",
        "\n",
        "#to ensure pdf and bins line up to use fill_between.\n",
        "bins_1 = bins[(bins >= q1-1.5*(q3-q1)) & (bins <= q1)] # to ensure fill starts from Q1-1.5*IQR\n",
        "bins_2 = bins[(bins <= q3+1.5*(q3-q1)) & (bins >= q3)]\n",
        "pdf_1 = pdf[:int(len(pdf)/2)]\n",
        "pdf_2 = pdf[int(len(pdf)/2):]\n",
        "pdf_1 = pdf_1[(pdf_1 >= norm(mu,sigma).pdf(q1-1.5*(q3-q1))) & (pdf_1 <= norm(mu,sigma).pdf(q1))]\n",
        "pdf_2 = pdf_2[(pdf_2 >= norm(mu,sigma).pdf(q3+1.5*(q3-q1))) & (pdf_2 <= norm(mu,sigma).pdf(q3))]\n",
        "\n",
        "#fill from Q1-1.5*IQR to Q1 and Q3 to Q3+1.5*IQR\n",
        "axes[1].fill_between(bins_1, pdf_1, 0, alpha=.6, color='orange')\n",
        "axes[1].fill_between(bins_2, pdf_2, 0, alpha=.6, color='orange')\n",
        "\n",
        "print(norm(mu, sigma).cdf(median))#Cumulative density function.\n",
        "print(norm(mu, sigma).pdf(median))\n",
        "\n",
        "#add text to bottom graph.\n",
        "axes[1].annotate(\"{:.1f}%\".format(100*norm(mu, sigma).cdf(q1)), xy=((q1-1.5*(q3-q1)+q1)/2, 0), ha='center')\n",
        "axes[1].annotate(\"{:.1f}%\".format(100*(norm(mu, sigma).cdf(q3)-norm(mu, sigma).cdf(q1))), xy=(median, 0), ha='center')\n",
        "axes[1].annotate(\"{:.1f}%\".format(100*(norm(mu, sigma).cdf(q3+1.5*(q3-q1)-q3)-norm(mu, sigma).cdf(q3))), xy=((q3+1.5*(q3-q1)+q3)/2, 0), ha='center')\n",
        "axes[1].annotate('q1', xy=(q1, norm(mu, sigma).pdf(q1)), ha='center')\n",
        "axes[1].annotate('q3', xy=(q3, norm(mu, sigma).pdf(q3)), ha='center')\n",
        "\n",
        "axes[1].set_ylabel('probability')\n",
        "\n",
        "plt.subplots_adjust(hspace=0)\n",
        "plt.xlim(-100, 100000)\n",
        "\n",
        "plt.show()\n",
        "\n"
      ],
      "execution_count": 42,
      "outputs": [
        {
          "output_type": "stream",
          "text": [
            "-460.0\n",
            "861602.44\n",
            "6.5 9.5 15.0\n",
            "0.4949711287020421\n",
            "0.00129577323871038\n"
          ],
          "name": "stdout"
        },
        {
          "output_type": "display_data",
          "data": {
            "image/png": "[encoded data removed]",
            "text/plain": [
              "<matplotlib.figure.Figure at 0x7fce2ed88d68>"
            ]
          },
          "metadata": {
            "tags": []
          }
        }
      ]
    },
    {
      "metadata": {
        "id": "VIBV0ZxFq9iW",
        "colab_type": "text"
      },
      "cell_type": "markdown",
      "source": [
        "The value for standard deviation defines a range above and below the mean for which a certain percentage of the data lie.\n",
        "\n",
        "Thanks to the histogram and the boxplot we see that in the data of the fares amount, we have some values that go far from the average, so we can assume that they are erroneous values, so we proceed to remove them.\n",
        "\n",
        "I have consider that if the fare amount is lower than 0, it is not fare therefore the value is not useful and if the value is higher than 20, it will be much over the mediam so I am going to replace these values for the mediam value.\n",
        "\n"
      ]
    },
    {
      "metadata": {
        "id": "czkrMXwBrr_T",
        "colab_type": "code",
        "colab": {
          "base_uri": "https://localhost:8080/",
          "height": 545
        },
        "outputId": "982f0864-cd3f-42a1-b173-315ee27dbe8c"
      },
      "cell_type": "code",
      "source": [
        "df['fare_amount'].mean()\n",
        "df['fare_amount'][df['fare_amount']>20]=13.38077541544187\n",
        "df['fare_amount'][df['fare_amount']<=0]=13.38077541544187\n",
        "\n",
        "df.loc[(df['fare_amount']==13.38077541544187)].count()"
      ],
      "execution_count": 14,
      "outputs": [
        {
          "output_type": "stream",
          "text": [
            "/usr/local/lib/python3.6/dist-packages/ipykernel_launcher.py:2: SettingWithCopyWarning: \n",
            "A value is trying to be set on a copy of a slice from a DataFrame\n",
            "\n",
            "See the caveats in the documentation: http://pandas.pydata.org/pandas-docs/stable/indexing.html#indexing-view-versus-copy\n",
            "  \n",
            "/usr/local/lib/python3.6/dist-packages/ipykernel_launcher.py:3: SettingWithCopyWarning: \n",
            "A value is trying to be set on a copy of a slice from a DataFrame\n",
            "\n",
            "See the caveats in the documentation: http://pandas.pydata.org/pandas-docs/stable/indexing.html#indexing-view-versus-copy\n",
            "  This is separate from the ipykernel package so we can avoid doing imports until\n"
          ],
          "name": "stderr"
        },
        {
          "output_type": "execute_result",
          "data": {
            "text/plain": [
              "VendorID                 1460236\n",
              "tpep_pickup_datetime     1460236\n",
              "tpep_dropoff_datetime    1460236\n",
              "passenger_count          1460236\n",
              "trip_distance            1460236\n",
              "RatecodeID               1460236\n",
              "store_and_fwd_flag       1460236\n",
              "PULocationID             1460236\n",
              "DOLocationID             1460236\n",
              "payment_type             1460236\n",
              "fare_amount              1460236\n",
              "extra                    1460236\n",
              "mta_tax                  1460236\n",
              "tip_amount               1460236\n",
              "tolls_amount             1460236\n",
              "improvement_surcharge    1460236\n",
              "total_amount             1460236\n",
              "payment_type_text        1460236\n",
              "dtype: int64"
            ]
          },
          "metadata": {
            "tags": []
          },
          "execution_count": 14
        }
      ]
    },
    {
      "metadata": {
        "id": "Nn3SNHyJtDBY",
        "colab_type": "text"
      },
      "cell_type": "markdown",
      "source": [
        "**Just to show the result.**"
      ]
    },
    {
      "metadata": {
        "id": "NyVqXxB4s3wO",
        "colab_type": "code",
        "colab": {
          "base_uri": "https://localhost:8080/",
          "height": 363
        },
        "outputId": "b8da8041-75fb-4ee2-f66b-3f29f557102f"
      },
      "cell_type": "code",
      "source": [
        "df.boxplot(column='fare_amount')\n",
        "plt.boxplot(df['fare_amount'], 0, 'gD')\n",
        "plt.title('Fare_amount spread')\n",
        "plt.ylabel('Fare_amount')\n",
        "plt.show()"
      ],
      "execution_count": 46,
      "outputs": [
        {
          "output_type": "display_data",
          "data": {
            "image/png": "[encoded data removed]",
            "text/plain": [
              "<matplotlib.figure.Figure at 0x7fce184173c8>"
            ]
          },
          "metadata": {
            "tags": []
          }
        }
      ]
    },
    {
      "metadata": {
        "id": "eX0Un7PndhLd",
        "colab_type": "text"
      },
      "cell_type": "markdown",
      "source": [
        "#4.\n",
        "Try to plot a histogram of the trip distance distribution. What happens? Try increasing the number of bins, normalizing the data, or using a logarithmic scale in the Y axis to actually see something"
      ]
    },
    {
      "metadata": {
        "id": "_90L4L97skcP",
        "colab_type": "text"
      },
      "cell_type": "markdown",
      "source": [
        "*Histogram of the trip distance distribution. What happens? *"
      ]
    },
    {
      "metadata": {
        "id": "HshDpqTveAtm",
        "colab_type": "code",
        "colab": {
          "base_uri": "https://localhost:8080/",
          "height": 376
        },
        "outputId": "8e2aa8fe-c558-430c-fe0d-5992a82ed611"
      },
      "cell_type": "code",
      "source": [
        "df['trip_distance'].plot.hist(color=\"orange\")\n",
        "plt.xlabel('Trip distance')\n",
        "plt.title('Trip distance distribution')\n",
        "plt.show()"
      ],
      "execution_count": 52,
      "outputs": [
        {
          "output_type": "display_data",
          "data": {
            "image/png": "[encoded data removed]",
            "text/plain": [
              "<matplotlib.figure.Figure at 0x7fce2efeb320>"
            ]
          },
          "metadata": {
            "tags": []
          }
        }
      ]
    },
    {
      "metadata": {
        "id": "LA9Sxj5vu2R4",
        "colab_type": "text"
      },
      "cell_type": "markdown",
      "source": [
        "What happens is that the number of trips decrease as the trip distance is longer"
      ]
    },
    {
      "metadata": {
        "id": "9MBemS_PeZOb",
        "colab_type": "code",
        "colab": {
          "base_uri": "https://localhost:8080/",
          "height": 376
        },
        "outputId": "1d0da26a-b448-4e6b-b9ed-dd821dd6faae"
      },
      "cell_type": "code",
      "source": [
        "#Increasing the number of bins\n",
        "df['trip_distance'].plot.hist(bins=30)\n",
        "plt.xlabel('Trip distance')\n",
        "plt.title('Trip distance distribution')\n",
        "plt.show()"
      ],
      "execution_count": 59,
      "outputs": [
        {
          "output_type": "display_data",
          "data": {
            "image/png": "[encoded data removed]",
            "text/plain": [
              "<matplotlib.figure.Figure at 0x7f8574b25940>"
            ]
          },
          "metadata": {
            "tags": []
          }
        }
      ]
    },
    {
      "metadata": {
        "id": "yOdsQfHIfVt3",
        "colab_type": "code",
        "colab": {
          "base_uri": "https://localhost:8080/",
          "height": 376
        },
        "outputId": "c6e274e3-858d-4988-a69e-e3968ce966e3"
      },
      "cell_type": "code",
      "source": [
        "#Normalizing Data\n",
        "df['trip_distance'].plot(kind='hist', density=1, bins=20, stacked=False,color=\"skyblue\")\n",
        "plt.xlabel('Trip distance')\n",
        "plt.title('Trip distance distribution')\n",
        "plt.show()"
      ],
      "execution_count": 53,
      "outputs": [
        {
          "output_type": "display_data",
          "data": {
            "image/png": "[encoded data removed]",
            "text/plain": [
              "<matplotlib.figure.Figure at 0x7fce18108208>"
            ]
          },
          "metadata": {
            "tags": []
          }
        }
      ]
    },
    {
      "metadata": {
        "id": "ohkoIn4Qf7A9",
        "colab_type": "code",
        "colab": {
          "base_uri": "https://localhost:8080/",
          "height": 376
        },
        "outputId": "bacc553d-5af0-491f-ffb3-b7acbad4b8db"
      },
      "cell_type": "code",
      "source": [
        "#Using a logarithmic scale in the Y\n",
        "ax=df['trip_distance'].plot(kind='hist', density=1, bins=20, stacked=False, color=\"red\")\n",
        "ax.set_yscale('log')\n",
        "plt.xlabel('Trip distance')\n",
        "plt.title('Trip distance distribution')\n",
        "plt.show()"
      ],
      "execution_count": 55,
      "outputs": [
        {
          "output_type": "display_data",
          "data": {
            "image/png": "[encoded data removed]",
            "text/plain": [
              "<matplotlib.figure.Figure at 0x7fce345910b8>"
            ]
          },
          "metadata": {
            "tags": []
          }
        }
      ]
    },
    {
      "metadata": {
        "id": "UgT8TnXmiuI6",
        "colab_type": "text"
      },
      "cell_type": "markdown",
      "source": [
        "#5. \n",
        "What is the median trip distance per passenger count? Represent it in text and graphical form"
      ]
    },
    {
      "metadata": {
        "id": "Wdu0B84xi32_",
        "colab_type": "code",
        "colab": {
          "base_uri": "https://localhost:8080/",
          "height": 235
        },
        "outputId": "042b6ccb-ae42-4149-f8a0-bc085cc86dff"
      },
      "cell_type": "code",
      "source": [
        "#Represent in text\n",
        "median_tripdistance_per_passenger_count=df.groupby('passenger_count')['trip_distance'].median()\n",
        "print(median_tripdistance_per_passenger_count)"
      ],
      "execution_count": 56,
      "outputs": [
        {
          "output_type": "stream",
          "text": [
            "passenger_count\n",
            "0    1.600000\n",
            "1    1.650000\n",
            "2    1.730000\n",
            "3    1.700000\n",
            "4    1.780000\n",
            "5    1.710000\n",
            "6    1.680000\n",
            "7    2.964095\n",
            "8    2.964095\n",
            "9    2.964095\n",
            "Name: trip_distance, dtype: float64\n"
          ],
          "name": "stdout"
        }
      ]
    },
    {
      "metadata": {
        "id": "UrFE9lGHj8i7",
        "colab_type": "code",
        "colab": {
          "base_uri": "https://localhost:8080/",
          "height": 620
        },
        "outputId": "48259e40-f4fa-4490-d165-0a0484785400"
      },
      "cell_type": "code",
      "source": [
        "#Represent in graphical\n",
        "fig, ax = plt.subplots(figsize=(15,10))\n",
        "median_tripdistance_per_passenger_count.plot(ax=ax)\n",
        "plt.title('Trip distance median per passenger_count')\n",
        "plt.ylabel('Median trip distance')\n",
        "plt.show()"
      ],
      "execution_count": 57,
      "outputs": [
        {
          "output_type": "display_data",
          "data": {
            "image/png": "[encoded data removed]",
            "text/plain": [
              "<matplotlib.figure.Figure at 0x7fce183cd080>"
            ]
          },
          "metadata": {
            "tags": []
          }
        }
      ]
    },
    {
      "metadata": {
        "id": "ldCGZZahm8WU",
        "colab_type": "text"
      },
      "cell_type": "markdown",
      "source": [
        "#6. \n",
        "Create a new column payment_type_text that is 'Cash' if payment_type is 2 and 'Other' otherwise"
      ]
    },
    {
      "metadata": {
        "id": "rAnvJBK8m94M",
        "colab_type": "code",
        "colab": {
          "base_uri": "https://localhost:8080/",
          "height": 218
        },
        "outputId": "50df0925-f615-4722-e0b0-73a26b64baad"
      },
      "cell_type": "code",
      "source": [
        "#%%timeit\n",
        "def check_it(input_str):\n",
        "  if input_str == 2:\n",
        "    return 'Cash'\n",
        "  return 'Other'\n",
        "\n",
        "df.loc[:,'payment_type_text'] = df.payment_type.apply(check_it)\n",
        "df.head()\n",
        "\n",
        "#data['payment_type_text']='Cash'\n",
        "#data.loc[data['payment_type']!=2,'payment_type_text']='other'"
      ],
      "execution_count": 15,
      "outputs": [
        {
          "output_type": "execute_result",
          "data": {
            "text/html": [
              "<div>\n",
              "<style scoped>\n",
              "    .dataframe tbody tr th:only-of-type {\n",
              "        vertical-align: middle;\n",
              "    }\n",
              "\n",
              "    .dataframe tbody tr th {\n",
              "        vertical-align: top;\n",
              "    }\n",
              "\n",
              "    .dataframe thead th {\n",
              "        text-align: right;\n",
              "    }\n",
              "</style>\n",
              "<table border=\"1\" class=\"dataframe\">\n",
              "  <thead>\n",
              "    <tr style=\"text-align: right;\">\n",
              "      <th></th>\n",
              "      <th>VendorID</th>\n",
              "      <th>tpep_pickup_datetime</th>\n",
              "      <th>tpep_dropoff_datetime</th>\n",
              "      <th>passenger_count</th>\n",
              "      <th>trip_distance</th>\n",
              "      <th>RatecodeID</th>\n",
              "      <th>store_and_fwd_flag</th>\n",
              "      <th>PULocationID</th>\n",
              "      <th>DOLocationID</th>\n",
              "      <th>payment_type</th>\n",
              "      <th>fare_amount</th>\n",
              "      <th>extra</th>\n",
              "      <th>mta_tax</th>\n",
              "      <th>tip_amount</th>\n",
              "      <th>tolls_amount</th>\n",
              "      <th>improvement_surcharge</th>\n",
              "      <th>total_amount</th>\n",
              "      <th>payment_type_text</th>\n",
              "    </tr>\n",
              "  </thead>\n",
              "  <tbody>\n",
              "    <tr>\n",
              "      <th>0</th>\n",
              "      <td>1</td>\n",
              "      <td>2017-10-01 00:01:50</td>\n",
              "      <td>2017-10-01 00:14:13</td>\n",
              "      <td>1</td>\n",
              "      <td>2.00</td>\n",
              "      <td>1</td>\n",
              "      <td>N</td>\n",
              "      <td>142</td>\n",
              "      <td>233</td>\n",
              "      <td>2</td>\n",
              "      <td>10.0</td>\n",
              "      <td>0.5</td>\n",
              "      <td>0.5</td>\n",
              "      <td>0.00</td>\n",
              "      <td>0.0</td>\n",
              "      <td>0.3</td>\n",
              "      <td>11.30</td>\n",
              "      <td>Cash</td>\n",
              "    </tr>\n",
              "    <tr>\n",
              "      <th>1</th>\n",
              "      <td>1</td>\n",
              "      <td>2017-10-01 00:02:43</td>\n",
              "      <td>2017-10-01 00:08:35</td>\n",
              "      <td>2</td>\n",
              "      <td>2.30</td>\n",
              "      <td>1</td>\n",
              "      <td>N</td>\n",
              "      <td>142</td>\n",
              "      <td>166</td>\n",
              "      <td>1</td>\n",
              "      <td>8.0</td>\n",
              "      <td>0.5</td>\n",
              "      <td>0.5</td>\n",
              "      <td>1.85</td>\n",
              "      <td>0.0</td>\n",
              "      <td>0.3</td>\n",
              "      <td>11.15</td>\n",
              "      <td>Other</td>\n",
              "    </tr>\n",
              "    <tr>\n",
              "      <th>2</th>\n",
              "      <td>1</td>\n",
              "      <td>2017-10-01 00:12:08</td>\n",
              "      <td>2017-10-01 00:25:49</td>\n",
              "      <td>3</td>\n",
              "      <td>2.80</td>\n",
              "      <td>1</td>\n",
              "      <td>N</td>\n",
              "      <td>151</td>\n",
              "      <td>262</td>\n",
              "      <td>1</td>\n",
              "      <td>13.0</td>\n",
              "      <td>0.5</td>\n",
              "      <td>0.5</td>\n",
              "      <td>1.72</td>\n",
              "      <td>0.0</td>\n",
              "      <td>0.3</td>\n",
              "      <td>16.02</td>\n",
              "      <td>Other</td>\n",
              "    </tr>\n",
              "    <tr>\n",
              "      <th>3</th>\n",
              "      <td>2</td>\n",
              "      <td>2017-10-01 00:00:25</td>\n",
              "      <td>2017-10-01 00:11:24</td>\n",
              "      <td>1</td>\n",
              "      <td>1.97</td>\n",
              "      <td>1</td>\n",
              "      <td>N</td>\n",
              "      <td>100</td>\n",
              "      <td>229</td>\n",
              "      <td>1</td>\n",
              "      <td>9.5</td>\n",
              "      <td>0.5</td>\n",
              "      <td>0.5</td>\n",
              "      <td>1.00</td>\n",
              "      <td>0.0</td>\n",
              "      <td>0.3</td>\n",
              "      <td>11.80</td>\n",
              "      <td>Other</td>\n",
              "    </tr>\n",
              "    <tr>\n",
              "      <th>4</th>\n",
              "      <td>2</td>\n",
              "      <td>2017-10-01 00:15:30</td>\n",
              "      <td>2017-10-01 00:25:11</td>\n",
              "      <td>1</td>\n",
              "      <td>2.17</td>\n",
              "      <td>1</td>\n",
              "      <td>N</td>\n",
              "      <td>141</td>\n",
              "      <td>142</td>\n",
              "      <td>1</td>\n",
              "      <td>9.0</td>\n",
              "      <td>0.5</td>\n",
              "      <td>0.5</td>\n",
              "      <td>2.06</td>\n",
              "      <td>0.0</td>\n",
              "      <td>0.3</td>\n",
              "      <td>12.36</td>\n",
              "      <td>Other</td>\n",
              "    </tr>\n",
              "  </tbody>\n",
              "</table>\n",
              "</div>"
            ],
            "text/plain": [
              "   VendorID tpep_pickup_datetime tpep_dropoff_datetime  passenger_count  \\\n",
              "0         1  2017-10-01 00:01:50   2017-10-01 00:14:13                1   \n",
              "1         1  2017-10-01 00:02:43   2017-10-01 00:08:35                2   \n",
              "2         1  2017-10-01 00:12:08   2017-10-01 00:25:49                3   \n",
              "3         2  2017-10-01 00:00:25   2017-10-01 00:11:24                1   \n",
              "4         2  2017-10-01 00:15:30   2017-10-01 00:25:11                1   \n",
              "\n",
              "   trip_distance  RatecodeID store_and_fwd_flag  PULocationID  DOLocationID  \\\n",
              "0           2.00           1                  N           142           233   \n",
              "1           2.30           1                  N           142           166   \n",
              "2           2.80           1                  N           151           262   \n",
              "3           1.97           1                  N           100           229   \n",
              "4           2.17           1                  N           141           142   \n",
              "\n",
              "   payment_type  fare_amount  extra  mta_tax  tip_amount  tolls_amount  \\\n",
              "0             2         10.0    0.5      0.5        0.00           0.0   \n",
              "1             1          8.0    0.5      0.5        1.85           0.0   \n",
              "2             1         13.0    0.5      0.5        1.72           0.0   \n",
              "3             1          9.5    0.5      0.5        1.00           0.0   \n",
              "4             1          9.0    0.5      0.5        2.06           0.0   \n",
              "\n",
              "   improvement_surcharge  total_amount payment_type_text  \n",
              "0                    0.3         11.30              Cash  \n",
              "1                    0.3         11.15             Other  \n",
              "2                    0.3         16.02             Other  \n",
              "3                    0.3         11.80             Other  \n",
              "4                    0.3         12.36             Other  "
            ]
          },
          "metadata": {
            "tags": []
          },
          "execution_count": 15
        }
      ]
    },
    {
      "metadata": {
        "id": "QVqBIqxqw01n",
        "colab_type": "text"
      },
      "cell_type": "markdown",
      "source": [
        "#7.\n",
        "Bonus points: what is the correlation between leaving no tip and paying with cash? "
      ]
    },
    {
      "metadata": {
        "id": "GYLBylnKyNbT",
        "colab_type": "code",
        "colab": {
          "base_uri": "https://localhost:8080/",
          "height": 35
        },
        "outputId": "d4b1df36-9b3b-48b6-f809-b7a0f421c7ac"
      },
      "cell_type": "code",
      "source": [
        "(df['tip_amount']==0).corr(df['payment_type_text']=='Cash')"
      ],
      "execution_count": 11,
      "outputs": [
        {
          "output_type": "execute_result",
          "data": {
            "text/plain": [
              "0.9201316511085742"
            ]
          },
          "metadata": {
            "tags": []
          },
          "execution_count": 11
        }
      ]
    },
    {
      "metadata": {
        "id": "htcmuIycAdNN",
        "colab_type": "code",
        "colab": {
          "base_uri": "https://localhost:8080/",
          "height": 108
        },
        "outputId": "03b7e70b-1c11-496a-9f16-1628dff51a4c"
      },
      "cell_type": "code",
      "source": [
        "no_tip=df['tip_amount']==0\n",
        "cash=df['payment_type_text']=='Cash'\n",
        "pd.concat([cash,no_tip])\n",
        "pd.concat([cash,no_tip],axis=1).corr()"
      ],
      "execution_count": 18,
      "outputs": [
        {
          "output_type": "execute_result",
          "data": {
            "text/html": [
              "<div>\n",
              "<style scoped>\n",
              "    .dataframe tbody tr th:only-of-type {\n",
              "        vertical-align: middle;\n",
              "    }\n",
              "\n",
              "    .dataframe tbody tr th {\n",
              "        vertical-align: top;\n",
              "    }\n",
              "\n",
              "    .dataframe thead th {\n",
              "        text-align: right;\n",
              "    }\n",
              "</style>\n",
              "<table border=\"1\" class=\"dataframe\">\n",
              "  <thead>\n",
              "    <tr style=\"text-align: right;\">\n",
              "      <th></th>\n",
              "      <th>payment_type_text</th>\n",
              "      <th>tip_amount</th>\n",
              "    </tr>\n",
              "  </thead>\n",
              "  <tbody>\n",
              "    <tr>\n",
              "      <th>payment_type_text</th>\n",
              "      <td>1.000000</td>\n",
              "      <td>0.920132</td>\n",
              "    </tr>\n",
              "    <tr>\n",
              "      <th>tip_amount</th>\n",
              "      <td>0.920132</td>\n",
              "      <td>1.000000</td>\n",
              "    </tr>\n",
              "  </tbody>\n",
              "</table>\n",
              "</div>"
            ],
            "text/plain": [
              "                   payment_type_text  tip_amount\n",
              "payment_type_text           1.000000    0.920132\n",
              "tip_amount                  0.920132    1.000000"
            ]
          },
          "metadata": {
            "tags": []
          },
          "execution_count": 18
        }
      ]
    },
    {
      "metadata": {
        "id": "O-dNrZ-GCuhm",
        "colab_type": "code",
        "colab": {
          "base_uri": "https://localhost:8080/",
          "height": 488
        },
        "outputId": "a911ae6b-65ae-46f6-cec3-47a7d1e0d39e"
      },
      "cell_type": "code",
      "source": [
        "df.corr()"
      ],
      "execution_count": 19,
      "outputs": [
        {
          "output_type": "execute_result",
          "data": {
            "text/html": [
              "<div>\n",
              "<style scoped>\n",
              "    .dataframe tbody tr th:only-of-type {\n",
              "        vertical-align: middle;\n",
              "    }\n",
              "\n",
              "    .dataframe tbody tr th {\n",
              "        vertical-align: top;\n",
              "    }\n",
              "\n",
              "    .dataframe thead th {\n",
              "        text-align: right;\n",
              "    }\n",
              "</style>\n",
              "<table border=\"1\" class=\"dataframe\">\n",
              "  <thead>\n",
              "    <tr style=\"text-align: right;\">\n",
              "      <th></th>\n",
              "      <th>VendorID</th>\n",
              "      <th>passenger_count</th>\n",
              "      <th>trip_distance</th>\n",
              "      <th>RatecodeID</th>\n",
              "      <th>PULocationID</th>\n",
              "      <th>DOLocationID</th>\n",
              "      <th>payment_type</th>\n",
              "      <th>fare_amount</th>\n",
              "      <th>extra</th>\n",
              "      <th>mta_tax</th>\n",
              "      <th>tip_amount</th>\n",
              "      <th>tolls_amount</th>\n",
              "      <th>improvement_surcharge</th>\n",
              "      <th>total_amount</th>\n",
              "    </tr>\n",
              "  </thead>\n",
              "  <tbody>\n",
              "    <tr>\n",
              "      <th>VendorID</th>\n",
              "      <td>1.000000</td>\n",
              "      <td>0.264023</td>\n",
              "      <td>0.015397</td>\n",
              "      <td>0.004314</td>\n",
              "      <td>-0.016988</td>\n",
              "      <td>-0.011777</td>\n",
              "      <td>-0.023344</td>\n",
              "      <td>0.010707</td>\n",
              "      <td>0.005310</td>\n",
              "      <td>-0.001116</td>\n",
              "      <td>0.014550</td>\n",
              "      <td>0.011548</td>\n",
              "      <td>-0.020501</td>\n",
              "      <td>0.000383</td>\n",
              "    </tr>\n",
              "    <tr>\n",
              "      <th>passenger_count</th>\n",
              "      <td>0.264023</td>\n",
              "      <td>1.000000</td>\n",
              "      <td>0.011513</td>\n",
              "      <td>-0.004531</td>\n",
              "      <td>-0.006508</td>\n",
              "      <td>-0.005705</td>\n",
              "      <td>0.012003</td>\n",
              "      <td>0.014630</td>\n",
              "      <td>0.007354</td>\n",
              "      <td>0.000088</td>\n",
              "      <td>-0.004805</td>\n",
              "      <td>0.008762</td>\n",
              "      <td>-0.002320</td>\n",
              "      <td>0.000256</td>\n",
              "    </tr>\n",
              "    <tr>\n",
              "      <th>trip_distance</th>\n",
              "      <td>0.015397</td>\n",
              "      <td>0.011513</td>\n",
              "      <td>1.000000</td>\n",
              "      <td>0.039717</td>\n",
              "      <td>-0.067964</td>\n",
              "      <td>-0.092437</td>\n",
              "      <td>-0.064656</td>\n",
              "      <td>0.686395</td>\n",
              "      <td>0.037513</td>\n",
              "      <td>-0.004939</td>\n",
              "      <td>0.357020</td>\n",
              "      <td>0.256287</td>\n",
              "      <td>0.012943</td>\n",
              "      <td>0.025324</td>\n",
              "    </tr>\n",
              "    <tr>\n",
              "      <th>RatecodeID</th>\n",
              "      <td>0.004314</td>\n",
              "      <td>-0.004531</td>\n",
              "      <td>0.039717</td>\n",
              "      <td>1.000000</td>\n",
              "      <td>-0.005559</td>\n",
              "      <td>-0.002756</td>\n",
              "      <td>-0.000595</td>\n",
              "      <td>0.072516</td>\n",
              "      <td>0.028768</td>\n",
              "      <td>-0.040012</td>\n",
              "      <td>0.191114</td>\n",
              "      <td>0.238302</td>\n",
              "      <td>-0.086186</td>\n",
              "      <td>0.016041</td>\n",
              "    </tr>\n",
              "    <tr>\n",
              "      <th>PULocationID</th>\n",
              "      <td>-0.016988</td>\n",
              "      <td>-0.006508</td>\n",
              "      <td>-0.067964</td>\n",
              "      <td>-0.005559</td>\n",
              "      <td>1.000000</td>\n",
              "      <td>0.105101</td>\n",
              "      <td>-0.010792</td>\n",
              "      <td>-0.055561</td>\n",
              "      <td>-0.012510</td>\n",
              "      <td>-0.000492</td>\n",
              "      <td>-0.038591</td>\n",
              "      <td>-0.040307</td>\n",
              "      <td>-0.002693</td>\n",
              "      <td>-0.003408</td>\n",
              "    </tr>\n",
              "    <tr>\n",
              "      <th>DOLocationID</th>\n",
              "      <td>-0.011777</td>\n",
              "      <td>-0.005705</td>\n",
              "      <td>-0.092437</td>\n",
              "      <td>-0.002756</td>\n",
              "      <td>0.105101</td>\n",
              "      <td>1.000000</td>\n",
              "      <td>-0.010606</td>\n",
              "      <td>-0.082395</td>\n",
              "      <td>-0.013901</td>\n",
              "      <td>0.013808</td>\n",
              "      <td>-0.045933</td>\n",
              "      <td>-0.045868</td>\n",
              "      <td>-0.001963</td>\n",
              "      <td>-0.003546</td>\n",
              "    </tr>\n",
              "    <tr>\n",
              "      <th>payment_type</th>\n",
              "      <td>-0.023344</td>\n",
              "      <td>0.012003</td>\n",
              "      <td>-0.064656</td>\n",
              "      <td>-0.000595</td>\n",
              "      <td>-0.010792</td>\n",
              "      <td>-0.010606</td>\n",
              "      <td>1.000000</td>\n",
              "      <td>-0.072385</td>\n",
              "      <td>-0.022375</td>\n",
              "      <td>-0.016961</td>\n",
              "      <td>-0.478712</td>\n",
              "      <td>-0.036873</td>\n",
              "      <td>-0.080441</td>\n",
              "      <td>-0.005209</td>\n",
              "    </tr>\n",
              "    <tr>\n",
              "      <th>fare_amount</th>\n",
              "      <td>0.010707</td>\n",
              "      <td>0.014630</td>\n",
              "      <td>0.686395</td>\n",
              "      <td>0.072516</td>\n",
              "      <td>-0.055561</td>\n",
              "      <td>-0.082395</td>\n",
              "      <td>-0.072385</td>\n",
              "      <td>1.000000</td>\n",
              "      <td>0.028398</td>\n",
              "      <td>-0.017348</td>\n",
              "      <td>0.338954</td>\n",
              "      <td>0.175127</td>\n",
              "      <td>-0.018879</td>\n",
              "      <td>0.026081</td>\n",
              "    </tr>\n",
              "    <tr>\n",
              "      <th>extra</th>\n",
              "      <td>0.005310</td>\n",
              "      <td>0.007354</td>\n",
              "      <td>0.037513</td>\n",
              "      <td>0.028768</td>\n",
              "      <td>-0.012510</td>\n",
              "      <td>-0.013901</td>\n",
              "      <td>-0.022375</td>\n",
              "      <td>0.028398</td>\n",
              "      <td>1.000000</td>\n",
              "      <td>0.003432</td>\n",
              "      <td>0.071706</td>\n",
              "      <td>0.049143</td>\n",
              "      <td>0.033456</td>\n",
              "      <td>0.014058</td>\n",
              "    </tr>\n",
              "    <tr>\n",
              "      <th>mta_tax</th>\n",
              "      <td>-0.001116</td>\n",
              "      <td>0.000088</td>\n",
              "      <td>-0.004939</td>\n",
              "      <td>-0.040012</td>\n",
              "      <td>-0.000492</td>\n",
              "      <td>0.013808</td>\n",
              "      <td>-0.016961</td>\n",
              "      <td>-0.017348</td>\n",
              "      <td>0.003432</td>\n",
              "      <td>1.000000</td>\n",
              "      <td>-0.043025</td>\n",
              "      <td>-0.086255</td>\n",
              "      <td>0.177453</td>\n",
              "      <td>-0.001127</td>\n",
              "    </tr>\n",
              "    <tr>\n",
              "      <th>tip_amount</th>\n",
              "      <td>0.014550</td>\n",
              "      <td>-0.004805</td>\n",
              "      <td>0.357020</td>\n",
              "      <td>0.191114</td>\n",
              "      <td>-0.038591</td>\n",
              "      <td>-0.045933</td>\n",
              "      <td>-0.478712</td>\n",
              "      <td>0.338954</td>\n",
              "      <td>0.071706</td>\n",
              "      <td>-0.043025</td>\n",
              "      <td>1.000000</td>\n",
              "      <td>0.409237</td>\n",
              "      <td>0.015900</td>\n",
              "      <td>0.032364</td>\n",
              "    </tr>\n",
              "    <tr>\n",
              "      <th>tolls_amount</th>\n",
              "      <td>0.011548</td>\n",
              "      <td>0.008762</td>\n",
              "      <td>0.256287</td>\n",
              "      <td>0.238302</td>\n",
              "      <td>-0.040307</td>\n",
              "      <td>-0.045868</td>\n",
              "      <td>-0.036873</td>\n",
              "      <td>0.175127</td>\n",
              "      <td>0.049143</td>\n",
              "      <td>-0.086255</td>\n",
              "      <td>0.409237</td>\n",
              "      <td>1.000000</td>\n",
              "      <td>0.004917</td>\n",
              "      <td>0.029700</td>\n",
              "    </tr>\n",
              "    <tr>\n",
              "      <th>improvement_surcharge</th>\n",
              "      <td>-0.020501</td>\n",
              "      <td>-0.002320</td>\n",
              "      <td>0.012943</td>\n",
              "      <td>-0.086186</td>\n",
              "      <td>-0.002693</td>\n",
              "      <td>-0.001963</td>\n",
              "      <td>-0.080441</td>\n",
              "      <td>-0.018879</td>\n",
              "      <td>0.033456</td>\n",
              "      <td>0.177453</td>\n",
              "      <td>0.015900</td>\n",
              "      <td>0.004917</td>\n",
              "      <td>1.000000</td>\n",
              "      <td>-0.001246</td>\n",
              "    </tr>\n",
              "    <tr>\n",
              "      <th>total_amount</th>\n",
              "      <td>0.000383</td>\n",
              "      <td>0.000256</td>\n",
              "      <td>0.025324</td>\n",
              "      <td>0.016041</td>\n",
              "      <td>-0.003408</td>\n",
              "      <td>-0.003546</td>\n",
              "      <td>-0.005209</td>\n",
              "      <td>0.026081</td>\n",
              "      <td>0.014058</td>\n",
              "      <td>-0.001127</td>\n",
              "      <td>0.032364</td>\n",
              "      <td>0.029700</td>\n",
              "      <td>-0.001246</td>\n",
              "      <td>1.000000</td>\n",
              "    </tr>\n",
              "  </tbody>\n",
              "</table>\n",
              "</div>"
            ],
            "text/plain": [
              "                       VendorID  passenger_count  trip_distance  RatecodeID  \\\n",
              "VendorID               1.000000         0.264023       0.015397    0.004314   \n",
              "passenger_count        0.264023         1.000000       0.011513   -0.004531   \n",
              "trip_distance          0.015397         0.011513       1.000000    0.039717   \n",
              "RatecodeID             0.004314        -0.004531       0.039717    1.000000   \n",
              "PULocationID          -0.016988        -0.006508      -0.067964   -0.005559   \n",
              "DOLocationID          -0.011777        -0.005705      -0.092437   -0.002756   \n",
              "payment_type          -0.023344         0.012003      -0.064656   -0.000595   \n",
              "fare_amount            0.010707         0.014630       0.686395    0.072516   \n",
              "extra                  0.005310         0.007354       0.037513    0.028768   \n",
              "mta_tax               -0.001116         0.000088      -0.004939   -0.040012   \n",
              "tip_amount             0.014550        -0.004805       0.357020    0.191114   \n",
              "tolls_amount           0.011548         0.008762       0.256287    0.238302   \n",
              "improvement_surcharge -0.020501        -0.002320       0.012943   -0.086186   \n",
              "total_amount           0.000383         0.000256       0.025324    0.016041   \n",
              "\n",
              "                       PULocationID  DOLocationID  payment_type  fare_amount  \\\n",
              "VendorID                  -0.016988     -0.011777     -0.023344     0.010707   \n",
              "passenger_count           -0.006508     -0.005705      0.012003     0.014630   \n",
              "trip_distance             -0.067964     -0.092437     -0.064656     0.686395   \n",
              "RatecodeID                -0.005559     -0.002756     -0.000595     0.072516   \n",
              "PULocationID               1.000000      0.105101     -0.010792    -0.055561   \n",
              "DOLocationID               0.105101      1.000000     -0.010606    -0.082395   \n",
              "payment_type              -0.010792     -0.010606      1.000000    -0.072385   \n",
              "fare_amount               -0.055561     -0.082395     -0.072385     1.000000   \n",
              "extra                     -0.012510     -0.013901     -0.022375     0.028398   \n",
              "mta_tax                   -0.000492      0.013808     -0.016961    -0.017348   \n",
              "tip_amount                -0.038591     -0.045933     -0.478712     0.338954   \n",
              "tolls_amount              -0.040307     -0.045868     -0.036873     0.175127   \n",
              "improvement_surcharge     -0.002693     -0.001963     -0.080441    -0.018879   \n",
              "total_amount              -0.003408     -0.003546     -0.005209     0.026081   \n",
              "\n",
              "                          extra   mta_tax  tip_amount  tolls_amount  \\\n",
              "VendorID               0.005310 -0.001116    0.014550      0.011548   \n",
              "passenger_count        0.007354  0.000088   -0.004805      0.008762   \n",
              "trip_distance          0.037513 -0.004939    0.357020      0.256287   \n",
              "RatecodeID             0.028768 -0.040012    0.191114      0.238302   \n",
              "PULocationID          -0.012510 -0.000492   -0.038591     -0.040307   \n",
              "DOLocationID          -0.013901  0.013808   -0.045933     -0.045868   \n",
              "payment_type          -0.022375 -0.016961   -0.478712     -0.036873   \n",
              "fare_amount            0.028398 -0.017348    0.338954      0.175127   \n",
              "extra                  1.000000  0.003432    0.071706      0.049143   \n",
              "mta_tax                0.003432  1.000000   -0.043025     -0.086255   \n",
              "tip_amount             0.071706 -0.043025    1.000000      0.409237   \n",
              "tolls_amount           0.049143 -0.086255    0.409237      1.000000   \n",
              "improvement_surcharge  0.033456  0.177453    0.015900      0.004917   \n",
              "total_amount           0.014058 -0.001127    0.032364      0.029700   \n",
              "\n",
              "                       improvement_surcharge  total_amount  \n",
              "VendorID                           -0.020501      0.000383  \n",
              "passenger_count                    -0.002320      0.000256  \n",
              "trip_distance                       0.012943      0.025324  \n",
              "RatecodeID                         -0.086186      0.016041  \n",
              "PULocationID                       -0.002693     -0.003408  \n",
              "DOLocationID                       -0.001963     -0.003546  \n",
              "payment_type                       -0.080441     -0.005209  \n",
              "fare_amount                        -0.018879      0.026081  \n",
              "extra                               0.033456      0.014058  \n",
              "mta_tax                             0.177453     -0.001127  \n",
              "tip_amount                          0.015900      0.032364  \n",
              "tolls_amount                        0.004917      0.029700  \n",
              "improvement_surcharge               1.000000     -0.001246  \n",
              "total_amount                       -0.001246      1.000000  "
            ]
          },
          "metadata": {
            "tags": []
          },
          "execution_count": 19
        }
      ]
    },
    {
      "metadata": {
        "id": "kibeaTpqxH-m",
        "colab_type": "text"
      },
      "cell_type": "markdown",
      "source": [
        "We have a strong correlation beteewn these two variables. Paying with Cash means a strong posibility of not leaving Tip."
      ]
    }
  ]
}