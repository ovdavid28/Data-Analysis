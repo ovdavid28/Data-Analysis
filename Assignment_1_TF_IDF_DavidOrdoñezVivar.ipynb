{
 "cells": [
  {
   "cell_type": "markdown",
   "metadata": {
    "colab_type": "text",
    "id": "5BJ5Qxb9Qdxi"
   },
   "source": [
    "\n",
    "Assignment #1 - TF-IDF   #David Ordóñez Vivar\n",
    "\n",
    "# Session 5: Text Mining (II)\n",
    "\n",
    "### Juan Luis Cano Rodríguez <juan.cano@bts.tech> - Data Science Foundations (2018-10-19)\n",
    "\n",
    "Open this notebook in Google Colaboratory: [![Open in Colab](https://colab.research.google.com/assets/colab-badge.svg)](https://colab.research.google.com/github/Juanlu001/bts-mbds-data-science-foundations/blob/master/sessions/05-Text-Mining-II.ipynb)"
   ]
  },
  {
   "cell_type": "code",
   "execution_count": 0,
   "metadata": {
    "colab": {},
    "colab_type": "code",
    "id": "DzOTrrnUQdxo"
   },
   "outputs": [],
   "source": [
    "# Source: http://billchambers.me/tutorials/2014/12/21/tf-idf-explained-in-python.html\n",
    "\n",
    "t0 = \"China has a strong economy that is growing at a rapid pace. However politically it differs greatly from the US Economy.\"\n",
    "t1 = \"At last, China seems serious about confronting an endemic problem: domestic violence and corruption.\"\n",
    "t2 = \"Japan's prime minister, Shinzo Abe, is working towards healing the economic turmoil in his own country for his view on the future of his people.\"\n",
    "t3 = \"Vladimir Putin is working hard to fix the economy in Russia as the Ruble has tumbled.\"\n",
    "t4 = \"What's the future of Abenomics? We asked Shinzo Abe for his views\"\n",
    "t5 = \"Obama has eased sanctions on Cuba while accelerating those against the Russian Economy, even as the Ruble's value falls almost daily.\"\n",
    "t6 = \"Vladimir Putin was found to be riding a horse, again, without a shirt on while hunting deer. Vladimir Putin always seems so serious about things - even riding horses.\""
   ]
  },
  {
   "cell_type": "markdown",
   "metadata": {
    "colab_type": "text",
    "id": "VNjX534FQd4Q"
   },
   "source": [
    "## Exercise: TF-IDF\n",
    "\n",
    "1. Write a function `tf` that receives a string and a spaCy `Doc` and returns the number of times the word appears in the `lemmatize`d `Doc`\n",
    "2. Write a function `idf` that receives a string and a list of spaCy `Doc`s and returns _the inverse of_ the number of docs that contain the word\n",
    "3. Write a function `tf_idf` that receives a string, a spaCy `Doc` and a list of spaCy `Doc`s and returns the product of `tf(t, d) · idf(t, D)`.\n",
    "4. Write a function `all_lemmas` that receives a list of `Doc`s and returns a `set` of all available `lemma`s\n",
    "5. Write a function `tf_idf_doc` that receives a `Doc` and a list of `Doc`s and returns a dictionary of `{lemma: TF-IDF value}`, corresponding to each the lemmas of all the available documents\n",
    "6. Write a function `tf_idf_scores` that receives a list of `Doc`s and returns a `DataFrame` displaying the lemmas in the columns and the documents in the rows.\n",
    "7. Visualize the TF-IDF, like this:\n",
    "\n",
    "\n",
    "![TF-IDF](img/tf-idf.png)"
   ]
  },
  {
   "cell_type": "markdown",
   "metadata": {
    "colab_type": "text",
    "id": "gyLonyQLZHxr"
   },
   "source": [
    "##1. \n",
    "Write a function tf that receives a string and a spaCy Doc and returns the number of times the word appears in the lemmatized Doc"
   ]
  },
  {
   "cell_type": "code",
   "execution_count": 2,
   "metadata": {
    "colab": {
     "base_uri": "https://localhost:8080/",
     "height": 326
    },
    "colab_type": "code",
    "id": "weZv05MzQd4S",
    "outputId": "9a97cebe-a273-476c-bbb8-45262ebfae3d"
   },
   "outputs": [
    {
     "name": "stdout",
     "output_type": "stream",
     "text": [
      "Collecting en_core_web_sm==2.0.0 from https://github.com/explosion/spacy-models/releases/download/en_core_web_sm-2.0.0/en_core_web_sm-2.0.0.tar.gz#egg=en_core_web_sm==2.0.0\n",
      "\u001b[?25l  Downloading https://github.com/explosion/spacy-models/releases/download/en_core_web_sm-2.0.0/en_core_web_sm-2.0.0.tar.gz (37.4MB)\n",
      "\u001b[K    100% |████████████████████████████████| 37.4MB 107.5MB/s \n",
      "\u001b[?25hInstalling collected packages: en-core-web-sm\n",
      "  Running setup.py install for en-core-web-sm ... \u001b[?25l-\b \b\\\b \b|\b \bdone\n",
      "\u001b[?25hSuccessfully installed en-core-web-sm-2.0.0\n",
      "\n",
      "\u001b[93m    Linking successful\u001b[0m\n",
      "    /usr/local/lib/python3.6/dist-packages/en_core_web_sm -->\n",
      "    /usr/local/lib/python3.6/dist-packages/spacy/data/en\n",
      "\n",
      "    You can now load the model via spacy.load('en')\n",
      "\n",
      "[nltk_data] Downloading package punkt to /root/nltk_data...\n",
      "[nltk_data]   Unzipping tokenizers/punkt.zip.\n",
      "[nltk_data] Downloading package stopwords to /root/nltk_data...\n",
      "[nltk_data]   Unzipping corpora/stopwords.zip.\n"
     ]
    }
   ],
   "source": [
    "import spacy\n",
    "import sys\n",
    "!{sys.executable} -m spacy download en\n",
    "\n",
    "nlp = spacy.load(\"en\")\n",
    "from collections import Counter\n",
    "import nltk, re, pprint\n",
    "from nltk.tokenize import word_tokenize\n",
    "nltk.download('punkt')\n",
    "nltk.download('stopwords')\n",
    "from spacy.lang.en.stop_words import STOP_WORDS\n"
   ]
  },
  {
   "cell_type": "code",
   "execution_count": 0,
   "metadata": {
    "colab": {},
    "colab_type": "code",
    "id": "bEsVsKmLe6u5"
   },
   "outputs": [],
   "source": [
    "counts = Counter()"
   ]
  },
  {
   "cell_type": "code",
   "execution_count": 4,
   "metadata": {
    "colab": {
     "base_uri": "https://localhost:8080/",
     "height": 85
    },
    "colab_type": "code",
    "id": "pJnLkdDQRU-Q",
    "outputId": "a285a0cd-8c22-4b6c-a2da-812bdcb2a36f"
   },
   "outputs": [
    {
     "name": "stdout",
     "output_type": "stream",
     "text": [
      "What word?: a\n",
      "This word appears 2 time/s in this str\n",
      "33\n",
      "0.06060606060606061\n"
     ]
    }
   ],
   "source": [
    "#At the beginning I understood that we needed to do somthing like this.\n",
    "\n",
    "palab = input('What word?: ')\n",
    "\n",
    "\n",
    "def tf_fun0(doc,s):\n",
    "  if type(doc) == str:\n",
    "  #If the input is a string\n",
    "    list01 = word_tokenize(doc)\n",
    "    d=list01.count(s)\n",
    "    print('This word appears %d time/s in this str' %d)\n",
    "    print(len(list01))\n",
    "    tf=d/len(list01)\n",
    "    print(tf)\n",
    "  else:\n",
    "  #If the input is a spacy doc 'spacy.tokens.doc.Doc' \n",
    "    list01=[]\n",
    "    for token in doc1:\n",
    "      list01.append((token.text))\n",
    "    d=list01.count(s)\n",
    "    print('This word appears %d time/s in this doc' %d)\n",
    "    print(len(list01))\n",
    "    \n",
    "\n",
    "tf_fun0(t6,palab) "
   ]
  },
  {
   "cell_type": "markdown",
   "metadata": {
    "colab_type": "text",
    "id": "fVSa0Bu9gnc1"
   },
   "source": [
    "This is the right way. First we lemmatized the docs with this function."
   ]
  },
  {
   "cell_type": "code",
   "execution_count": 5,
   "metadata": {
    "colab": {
     "base_uri": "https://localhost:8080/",
     "height": 187
    },
    "colab_type": "code",
    "id": "rZE9pg8EQ6-p",
    "outputId": "fcd37565-a061-43a7-9a66-c3c689383dee"
   },
   "outputs": [
    {
     "data": {
      "text/plain": [
       "['china',\n",
       " 'strong',\n",
       " 'economy',\n",
       " 'grow',\n",
       " 'rapid',\n",
       " 'pace',\n",
       " 'politically',\n",
       " 'differ',\n",
       " 'greatly',\n",
       " 'economy']"
      ]
     },
     "execution_count": 5,
     "metadata": {
      "tags": []
     },
     "output_type": "execute_result"
    }
   ],
   "source": [
    "def lemmat(doc):\n",
    "  lemmas=[token.lemma_ for token in doc if not token.is_punct and not token.is_space and not token.lower_ in STOP_WORDS]\n",
    "  return lemmas\n",
    "lemmat(nlp(t0))"
   ]
  },
  {
   "cell_type": "markdown",
   "metadata": {
    "colab_type": "text",
    "id": "LFVsquSEcRWp"
   },
   "source": [
    "Then we create a fun that shows the number of times a word appears in the lemmatized Doc. TF_fun:"
   ]
  },
  {
   "cell_type": "code",
   "execution_count": 7,
   "metadata": {
    "colab": {
     "base_uri": "https://localhost:8080/",
     "height": 34
    },
    "colab_type": "code",
    "id": "WUVTxuRYV-Ia",
    "outputId": "1b7ae8af-e847-46f1-ddb5-27cac5ccb617"
   },
   "outputs": [
    {
     "data": {
      "text/plain": [
       "1"
      ]
     },
     "execution_count": 7,
     "metadata": {
      "tags": []
     },
     "output_type": "execute_result"
    }
   ],
   "source": [
    "def tf_fun(doc,word):\n",
    "  list1=lemmat(doc)\n",
    "  letter=nlp(word)\n",
    "  sil=lemmat(letter)\n",
    "  times=list1.count(' '.join(sil))\n",
    "  return times\n",
    "\n",
    "tf_fun(nlp(t1),'China')\n",
    "    \n",
    "  "
   ]
  },
  {
   "cell_type": "markdown",
   "metadata": {
    "colab_type": "text",
    "id": "2MHriVBfcskx"
   },
   "source": [
    "#2.\n",
    "Write a function idf that receives a string and a list of spaCy Docs and returns the inverse of the number of docs that contain the word"
   ]
  },
  {
   "cell_type": "markdown",
   "metadata": {
    "colab_type": "text",
    "id": "EJNH94zic-Aq"
   },
   "source": [
    "Idf_Fun:"
   ]
  },
  {
   "cell_type": "code",
   "execution_count": 9,
   "metadata": {
    "colab": {
     "base_uri": "https://localhost:8080/",
     "height": 34
    },
    "colab_type": "code",
    "id": "L0vs0MeirEcH",
    "outputId": "d96c4071-2368-4904-a2a8-4a3fb3229cfa"
   },
   "outputs": [
    {
     "data": {
      "text/plain": [
       "0.5"
      ]
     },
     "execution_count": 9,
     "metadata": {
      "tags": []
     },
     "output_type": "execute_result"
    }
   ],
   "source": [
    "list_doc=[t0, t1, t2, t3, t4, t5, t6]\n",
    "\n",
    "def idf_fun(docs,word):\n",
    "  row=[]\n",
    "  for i in docs:\n",
    "    lemma=lemmat(nlp(i))\n",
    "    times=lemma.count(''.join(lemmat(nlp(word))))\n",
    "    if times > 0:\n",
    "      row.append(1)\n",
    "  if len(row) > 0:\n",
    "    return (1/len(row))\n",
    "  else:\n",
    "    return 0\n",
    "\n",
    "idf_fun(list_doc,'China')"
   ]
  },
  {
   "cell_type": "markdown",
   "metadata": {
    "colab_type": "text",
    "id": "_T-AAE6COmD1"
   },
   "source": [
    "#3.\n",
    "Write a function tf_idf that receives a string, a spaCy Doc and a list of spaCy Docs and returns the product of tf(t, d) · idf(t, D)."
   ]
  },
  {
   "cell_type": "code",
   "execution_count": 11,
   "metadata": {
    "colab": {
     "base_uri": "https://localhost:8080/",
     "height": 34
    },
    "colab_type": "code",
    "id": "YLMxwQVuPDuX",
    "outputId": "8d10d7dd-98cc-4075-8033-f593bd357f9c"
   },
   "outputs": [
    {
     "data": {
      "text/plain": [
       "0.5"
      ]
     },
     "execution_count": 11,
     "metadata": {
      "tags": []
     },
     "output_type": "execute_result"
    }
   ],
   "source": [
    "def tf_idf(word,doc,docs):\n",
    "  tf=tf_fun(doc,word)\n",
    "  idf=idf_fun(docs,word)\n",
    "  return tf*idf\n",
    "  \n",
    "tf_idf('China',nlp(t1),list_doc)\n",
    "  "
   ]
  },
  {
   "cell_type": "markdown",
   "metadata": {
    "colab_type": "text",
    "id": "j_cgiVE1SyRW"
   },
   "source": [
    "#4.\n",
    "Write a function all_lemmas that receives a list of Docs and returns a set of all available lemmas"
   ]
  },
  {
   "cell_type": "code",
   "execution_count": 12,
   "metadata": {
    "colab": {
     "base_uri": "https://localhost:8080/",
     "height": 952
    },
    "colab_type": "code",
    "id": "IzowJ_BgSvUB",
    "outputId": "215c6bab-5a21-440f-c618-56f956194e90"
   },
   "outputs": [
    {
     "data": {
      "text/plain": [
       "{\"'s\",\n",
       " 'abe',\n",
       " 'abenomics',\n",
       " 'accelerate',\n",
       " 'ask',\n",
       " 'be',\n",
       " 'china',\n",
       " 'confront',\n",
       " 'corruption',\n",
       " 'country',\n",
       " 'cuba',\n",
       " 'daily',\n",
       " 'deer',\n",
       " 'differ',\n",
       " 'domestic',\n",
       " 'ease',\n",
       " 'economic',\n",
       " 'economy',\n",
       " 'endemic',\n",
       " 'fall',\n",
       " 'find',\n",
       " 'fix',\n",
       " 'future',\n",
       " 'greatly',\n",
       " 'grow',\n",
       " 'hard',\n",
       " 'heal',\n",
       " 'horse',\n",
       " 'hunt',\n",
       " 'japan',\n",
       " 'minister',\n",
       " 'obama',\n",
       " 'pace',\n",
       " 'people',\n",
       " 'politically',\n",
       " 'prime',\n",
       " 'problem',\n",
       " 'putin',\n",
       " 'rapid',\n",
       " 'rid',\n",
       " 'ruble',\n",
       " 'russia',\n",
       " 'russian',\n",
       " 'sanction',\n",
       " 'shinzo',\n",
       " 'shirt',\n",
       " 'strong',\n",
       " 'thing',\n",
       " 'tumble',\n",
       " 'turmoil',\n",
       " 'value',\n",
       " 'view',\n",
       " 'violence',\n",
       " 'vladimir',\n",
       " 'work'}"
      ]
     },
     "execution_count": 12,
     "metadata": {
      "tags": []
     },
     "output_type": "execute_result"
    }
   ],
   "source": [
    "def all_lemmas(docs):\n",
    "  l=[]\n",
    "  for i in docs:\n",
    "    lemma=lemmat(nlp(i))\n",
    "    l.append(lemma)\n",
    "  flat_list = [item for sublist in l for item in sublist]\n",
    "  return set(flat_list)\n",
    "\n",
    "all_lemmas(list_doc)\n",
    "  "
   ]
  },
  {
   "cell_type": "markdown",
   "metadata": {
    "colab_type": "text",
    "id": "oSp7rcOdZwOw"
   },
   "source": [
    "#5. \n",
    "Write a function tf_idf_doc that receives a Doc and a list of Docs and returns a dictionary of {lemma: TF-IDF value}, corresponding to each the lemmas of all the available documents"
   ]
  },
  {
   "cell_type": "code",
   "execution_count": 13,
   "metadata": {
    "colab": {
     "base_uri": "https://localhost:8080/",
     "height": 952
    },
    "colab_type": "code",
    "id": "Z6SVXrSsjVjJ",
    "outputId": "8b1c9e51-b76b-457c-fb25-b954a291cd6b"
   },
   "outputs": [
    {
     "data": {
      "text/plain": [
       "{\"'s\": 0.0,\n",
       " 'abe': 0.0,\n",
       " 'abenomics': 0,\n",
       " 'accelerate': 0.0,\n",
       " 'ask': 0.0,\n",
       " 'be': 0,\n",
       " 'china': 0.0,\n",
       " 'confront': 0.0,\n",
       " 'corruption': 0.0,\n",
       " 'country': 0.0,\n",
       " 'cuba': 0.0,\n",
       " 'daily': 0.0,\n",
       " 'deer': 0.0,\n",
       " 'differ': 0.0,\n",
       " 'domestic': 0.0,\n",
       " 'ease': 0.0,\n",
       " 'economic': 0.0,\n",
       " 'economy': 0.3333333333333333,\n",
       " 'endemic': 0.0,\n",
       " 'fall': 0.0,\n",
       " 'find': 0.0,\n",
       " 'fix': 1.0,\n",
       " 'future': 0.0,\n",
       " 'greatly': 0.0,\n",
       " 'grow': 0.0,\n",
       " 'hard': 1.0,\n",
       " 'heal': 0.0,\n",
       " 'horse': 0.0,\n",
       " 'hunt': 0.0,\n",
       " 'japan': 0.0,\n",
       " 'minister': 0.0,\n",
       " 'obama': 0.0,\n",
       " 'pace': 0.0,\n",
       " 'people': 0.0,\n",
       " 'politically': 0.0,\n",
       " 'prime': 0.0,\n",
       " 'problem': 0.0,\n",
       " 'putin': 0.5,\n",
       " 'rapid': 0.0,\n",
       " 'rid': 0.0,\n",
       " 'ruble': 0.5,\n",
       " 'russia': 1.0,\n",
       " 'russian': 0.0,\n",
       " 'sanction': 0.0,\n",
       " 'shinzo': 0.0,\n",
       " 'shirt': 0.0,\n",
       " 'strong': 0.0,\n",
       " 'thing': 0.0,\n",
       " 'tumble': 1.0,\n",
       " 'turmoil': 0.0,\n",
       " 'value': 0.0,\n",
       " 'view': 0.0,\n",
       " 'violence': 0.0,\n",
       " 'vladimir': 0.5,\n",
       " 'work': 0.5}"
      ]
     },
     "execution_count": 13,
     "metadata": {
      "tags": []
     },
     "output_type": "execute_result"
    }
   ],
   "source": [
    "def tf_idf_doc(doc,docs):\n",
    "    lemmas = all_lemmas(docs)\n",
    "    dict_lemmas = {i : tf_idf(i,doc,docs) for i in lemmas}\n",
    "    return dict_lemmas\n",
    "  \n",
    "tf_idf_doc(nlp(t3),list_doc)"
   ]
  },
  {
   "cell_type": "markdown",
   "metadata": {
    "colab_type": "text",
    "id": "-RxaGqNfnwUg"
   },
   "source": [
    "#6.\n",
    "Write a function tf_idf_scores that receives a list of Docs and returns a DataFrame displaying the lemmas in the columns and the documents in the rows."
   ]
  },
  {
   "cell_type": "code",
   "execution_count": 0,
   "metadata": {
    "colab": {},
    "colab_type": "code",
    "id": "9xP_AMrQ3Ky2"
   },
   "outputs": [],
   "source": [
    "import pandas as pd"
   ]
  },
  {
   "cell_type": "code",
   "execution_count": 15,
   "metadata": {
    "colab": {
     "base_uri": "https://localhost:8080/",
     "height": 156
    },
    "colab_type": "code",
    "id": "m4Uk77tHMMQP",
    "outputId": "35750e75-4a27-4295-e086-17d5a47fd702"
   },
   "outputs": [
    {
     "name": "stdout",
     "output_type": "stream",
     "text": [
      "{'greatly': 1.0, 'hunt': 0.0, 'vladimir': 0.0, 'accelerate': 0.0, 'work': 0.0, 'russia': 0.0, 'fall': 0.0, 'abe': 0.0, 'heal': 0.0, 'corruption': 0.0, 'sanction': 0.0, 'economic': 0.0, 'hard': 0.0, 'people': 0.0, 'violence': 0.0, 'ease': 0.0, 'tumble': 0.0, 'ask': 0.0, 'be': 0, \"'s\": 0.0, 'turmoil': 0.0, 'pace': 1.0, 'grow': 1.0, 'shinzo': 0.0, 'shirt': 0.0, 'russian': 0.0, 'domestic': 0.0, 'ruble': 0.0, 'abenomics': 0, 'economy': 0.6666666666666666, 'cuba': 0.0, 'daily': 0.0, 'country': 0.0, 'minister': 0.0, 'fix': 0.0, 'view': 0.0, 'future': 0.0, 'strong': 1.0, 'differ': 1.0, 'confront': 0.0, 'japan': 0.0, 'politically': 1.0, 'rid': 0.0, 'deer': 0.0, 'find': 0.0, 'thing': 0.0, 'rapid': 1.0, 'putin': 0.0, 'prime': 0.0, 'value': 0.0, 'problem': 0.0, 'horse': 0.0, 'endemic': 0.0, 'china': 0.5, 'obama': 0.0}\n",
      "{'greatly': 0.0, 'hunt': 0.0, 'vladimir': 0.0, 'accelerate': 0.0, 'work': 0.0, 'russia': 0.0, 'fall': 0.0, 'abe': 0.0, 'heal': 0.0, 'corruption': 1.0, 'sanction': 0.0, 'economic': 0.0, 'hard': 0.0, 'people': 0.0, 'violence': 1.0, 'ease': 0.0, 'tumble': 0.0, 'ask': 0.0, 'be': 0, \"'s\": 0.0, 'turmoil': 0.0, 'pace': 0.0, 'grow': 0.0, 'shinzo': 0.0, 'shirt': 0.0, 'russian': 0.0, 'domestic': 1.0, 'ruble': 0.0, 'abenomics': 0, 'economy': 0.0, 'cuba': 0.0, 'daily': 0.0, 'country': 0.0, 'minister': 0.0, 'fix': 0.0, 'view': 0.0, 'future': 0.0, 'strong': 0.0, 'differ': 0.0, 'confront': 1.0, 'japan': 0.0, 'politically': 0.0, 'rid': 0.0, 'deer': 0.0, 'find': 0.0, 'thing': 0.0, 'rapid': 0.0, 'putin': 0.0, 'prime': 0.0, 'value': 0.0, 'problem': 1.0, 'horse': 0.0, 'endemic': 1.0, 'china': 0.5, 'obama': 0.0}\n",
      "{'greatly': 0.0, 'hunt': 0.0, 'vladimir': 0.0, 'accelerate': 0.0, 'work': 0.5, 'russia': 0.0, 'fall': 0.0, 'abe': 0.5, 'heal': 1.0, 'corruption': 0.0, 'sanction': 0.0, 'economic': 1.0, 'hard': 0.0, 'people': 1.0, 'violence': 0.0, 'ease': 0.0, 'tumble': 0.0, 'ask': 0.0, 'be': 0, \"'s\": 0.0, 'turmoil': 1.0, 'pace': 0.0, 'grow': 0.0, 'shinzo': 0.5, 'shirt': 0.0, 'russian': 0.0, 'domestic': 0.0, 'ruble': 0.0, 'abenomics': 0, 'economy': 0.0, 'cuba': 0.0, 'daily': 0.0, 'country': 1.0, 'minister': 1.0, 'fix': 0.0, 'view': 0.5, 'future': 0.5, 'strong': 0.0, 'differ': 0.0, 'confront': 0.0, 'japan': 1.0, 'politically': 0.0, 'rid': 0.0, 'deer': 0.0, 'find': 0.0, 'thing': 0.0, 'rapid': 0.0, 'putin': 0.0, 'prime': 1.0, 'value': 0.0, 'problem': 0.0, 'horse': 0.0, 'endemic': 0.0, 'china': 0.0, 'obama': 0.0}\n",
      "{'greatly': 0.0, 'hunt': 0.0, 'vladimir': 0.5, 'accelerate': 0.0, 'work': 0.5, 'russia': 1.0, 'fall': 0.0, 'abe': 0.0, 'heal': 0.0, 'corruption': 0.0, 'sanction': 0.0, 'economic': 0.0, 'hard': 1.0, 'people': 0.0, 'violence': 0.0, 'ease': 0.0, 'tumble': 1.0, 'ask': 0.0, 'be': 0, \"'s\": 0.0, 'turmoil': 0.0, 'pace': 0.0, 'grow': 0.0, 'shinzo': 0.0, 'shirt': 0.0, 'russian': 0.0, 'domestic': 0.0, 'ruble': 0.5, 'abenomics': 0, 'economy': 0.3333333333333333, 'cuba': 0.0, 'daily': 0.0, 'country': 0.0, 'minister': 0.0, 'fix': 1.0, 'view': 0.0, 'future': 0.0, 'strong': 0.0, 'differ': 0.0, 'confront': 0.0, 'japan': 0.0, 'politically': 0.0, 'rid': 0.0, 'deer': 0.0, 'find': 0.0, 'thing': 0.0, 'rapid': 0.0, 'putin': 0.5, 'prime': 0.0, 'value': 0.0, 'problem': 0.0, 'horse': 0.0, 'endemic': 0.0, 'china': 0.0, 'obama': 0.0}\n",
      "{'greatly': 0.0, 'hunt': 0.0, 'vladimir': 0.0, 'accelerate': 0.0, 'work': 0.0, 'russia': 0.0, 'fall': 0.0, 'abe': 0.5, 'heal': 0.0, 'corruption': 0.0, 'sanction': 0.0, 'economic': 0.0, 'hard': 0.0, 'people': 0.0, 'violence': 0.0, 'ease': 0.0, 'tumble': 0.0, 'ask': 1.0, 'be': 0, \"'s\": 1.0, 'turmoil': 0.0, 'pace': 0.0, 'grow': 0.0, 'shinzo': 0.5, 'shirt': 0.0, 'russian': 0.0, 'domestic': 0.0, 'ruble': 0.0, 'abenomics': 0, 'economy': 0.0, 'cuba': 0.0, 'daily': 0.0, 'country': 0.0, 'minister': 0.0, 'fix': 0.0, 'view': 0.5, 'future': 0.5, 'strong': 0.0, 'differ': 0.0, 'confront': 0.0, 'japan': 0.0, 'politically': 0.0, 'rid': 0.0, 'deer': 0.0, 'find': 0.0, 'thing': 0.0, 'rapid': 0.0, 'putin': 0.0, 'prime': 0.0, 'value': 0.0, 'problem': 0.0, 'horse': 0.0, 'endemic': 0.0, 'china': 0.0, 'obama': 0.0}\n",
      "{'greatly': 0.0, 'hunt': 0.0, 'vladimir': 0.0, 'accelerate': 1.0, 'work': 0.0, 'russia': 0.0, 'fall': 1.0, 'abe': 0.0, 'heal': 0.0, 'corruption': 0.0, 'sanction': 1.0, 'economic': 0.0, 'hard': 0.0, 'people': 0.0, 'violence': 0.0, 'ease': 1.0, 'tumble': 0.0, 'ask': 0.0, 'be': 0, \"'s\": 0.0, 'turmoil': 0.0, 'pace': 0.0, 'grow': 0.0, 'shinzo': 0.0, 'shirt': 0.0, 'russian': 1.0, 'domestic': 0.0, 'ruble': 0.5, 'abenomics': 0, 'economy': 0.3333333333333333, 'cuba': 1.0, 'daily': 1.0, 'country': 0.0, 'minister': 0.0, 'fix': 0.0, 'view': 0.0, 'future': 0.0, 'strong': 0.0, 'differ': 0.0, 'confront': 0.0, 'japan': 0.0, 'politically': 0.0, 'rid': 0.0, 'deer': 0.0, 'find': 0.0, 'thing': 0.0, 'rapid': 0.0, 'putin': 0.0, 'prime': 0.0, 'value': 1.0, 'problem': 0.0, 'horse': 0.0, 'endemic': 0.0, 'china': 0.0, 'obama': 1.0}\n",
      "{'greatly': 0.0, 'hunt': 1.0, 'vladimir': 1.0, 'accelerate': 0.0, 'work': 0.0, 'russia': 0.0, 'fall': 0.0, 'abe': 0.0, 'heal': 0.0, 'corruption': 0.0, 'sanction': 0.0, 'economic': 0.0, 'hard': 0.0, 'people': 0.0, 'violence': 0.0, 'ease': 0.0, 'tumble': 0.0, 'ask': 0.0, 'be': 0, \"'s\": 0.0, 'turmoil': 0.0, 'pace': 0.0, 'grow': 0.0, 'shinzo': 0.0, 'shirt': 1.0, 'russian': 0.0, 'domestic': 0.0, 'ruble': 0.0, 'abenomics': 0, 'economy': 0.0, 'cuba': 0.0, 'daily': 0.0, 'country': 0.0, 'minister': 0.0, 'fix': 0.0, 'view': 0.0, 'future': 0.0, 'strong': 0.0, 'differ': 0.0, 'confront': 0.0, 'japan': 0.0, 'politically': 0.0, 'rid': 2.0, 'deer': 1.0, 'find': 1.0, 'thing': 1.0, 'rapid': 0.0, 'putin': 1.0, 'prime': 0.0, 'value': 0.0, 'problem': 0.0, 'horse': 2.0, 'endemic': 0.0, 'china': 0.0, 'obama': 0.0}\n"
     ]
    }
   ],
   "source": [
    "for doc in list_doc:\n",
    "  dict_df=(tf_idf_doc(nlp(doc),list_doc))\n",
    "  print(dict_df)\n",
    " "
   ]
  },
  {
   "cell_type": "code",
   "execution_count": 16,
   "metadata": {
    "colab": {
     "base_uri": "https://localhost:8080/",
     "height": 315
    },
    "colab_type": "code",
    "id": "H9QGAB2HN6pw",
    "outputId": "4e36d2ba-f7f2-49e4-8f6f-6bb29994d4bc"
   },
   "outputs": [
    {
     "data": {
      "text/html": [
       "<div>\n",
       "<style scoped>\n",
       "    .dataframe tbody tr th:only-of-type {\n",
       "        vertical-align: middle;\n",
       "    }\n",
       "\n",
       "    .dataframe tbody tr th {\n",
       "        vertical-align: top;\n",
       "    }\n",
       "\n",
       "    .dataframe thead th {\n",
       "        text-align: right;\n",
       "    }\n",
       "</style>\n",
       "<table border=\"1\" class=\"dataframe\">\n",
       "  <thead>\n",
       "    <tr style=\"text-align: right;\">\n",
       "      <th></th>\n",
       "      <th>'s</th>\n",
       "      <th>abe</th>\n",
       "      <th>abenomics</th>\n",
       "      <th>accelerate</th>\n",
       "      <th>ask</th>\n",
       "      <th>be</th>\n",
       "      <th>china</th>\n",
       "      <th>confront</th>\n",
       "      <th>corruption</th>\n",
       "      <th>country</th>\n",
       "      <th>...</th>\n",
       "      <th>shirt</th>\n",
       "      <th>strong</th>\n",
       "      <th>thing</th>\n",
       "      <th>tumble</th>\n",
       "      <th>turmoil</th>\n",
       "      <th>value</th>\n",
       "      <th>view</th>\n",
       "      <th>violence</th>\n",
       "      <th>vladimir</th>\n",
       "      <th>work</th>\n",
       "    </tr>\n",
       "  </thead>\n",
       "  <tbody>\n",
       "    <tr>\n",
       "      <th>0</th>\n",
       "      <td>0.0</td>\n",
       "      <td>0.0</td>\n",
       "      <td>0</td>\n",
       "      <td>0.0</td>\n",
       "      <td>0.0</td>\n",
       "      <td>0</td>\n",
       "      <td>0.5</td>\n",
       "      <td>0.0</td>\n",
       "      <td>0.0</td>\n",
       "      <td>0.0</td>\n",
       "      <td>...</td>\n",
       "      <td>0.0</td>\n",
       "      <td>1.0</td>\n",
       "      <td>0.0</td>\n",
       "      <td>0.0</td>\n",
       "      <td>0.0</td>\n",
       "      <td>0.0</td>\n",
       "      <td>0.0</td>\n",
       "      <td>0.0</td>\n",
       "      <td>0.0</td>\n",
       "      <td>0.0</td>\n",
       "    </tr>\n",
       "    <tr>\n",
       "      <th>1</th>\n",
       "      <td>0.0</td>\n",
       "      <td>0.0</td>\n",
       "      <td>0</td>\n",
       "      <td>0.0</td>\n",
       "      <td>0.0</td>\n",
       "      <td>0</td>\n",
       "      <td>0.5</td>\n",
       "      <td>1.0</td>\n",
       "      <td>1.0</td>\n",
       "      <td>0.0</td>\n",
       "      <td>...</td>\n",
       "      <td>0.0</td>\n",
       "      <td>0.0</td>\n",
       "      <td>0.0</td>\n",
       "      <td>0.0</td>\n",
       "      <td>0.0</td>\n",
       "      <td>0.0</td>\n",
       "      <td>0.0</td>\n",
       "      <td>1.0</td>\n",
       "      <td>0.0</td>\n",
       "      <td>0.0</td>\n",
       "    </tr>\n",
       "    <tr>\n",
       "      <th>2</th>\n",
       "      <td>0.0</td>\n",
       "      <td>0.5</td>\n",
       "      <td>0</td>\n",
       "      <td>0.0</td>\n",
       "      <td>0.0</td>\n",
       "      <td>0</td>\n",
       "      <td>0.0</td>\n",
       "      <td>0.0</td>\n",
       "      <td>0.0</td>\n",
       "      <td>1.0</td>\n",
       "      <td>...</td>\n",
       "      <td>0.0</td>\n",
       "      <td>0.0</td>\n",
       "      <td>0.0</td>\n",
       "      <td>0.0</td>\n",
       "      <td>1.0</td>\n",
       "      <td>0.0</td>\n",
       "      <td>0.5</td>\n",
       "      <td>0.0</td>\n",
       "      <td>0.0</td>\n",
       "      <td>0.5</td>\n",
       "    </tr>\n",
       "    <tr>\n",
       "      <th>3</th>\n",
       "      <td>0.0</td>\n",
       "      <td>0.0</td>\n",
       "      <td>0</td>\n",
       "      <td>0.0</td>\n",
       "      <td>0.0</td>\n",
       "      <td>0</td>\n",
       "      <td>0.0</td>\n",
       "      <td>0.0</td>\n",
       "      <td>0.0</td>\n",
       "      <td>0.0</td>\n",
       "      <td>...</td>\n",
       "      <td>0.0</td>\n",
       "      <td>0.0</td>\n",
       "      <td>0.0</td>\n",
       "      <td>1.0</td>\n",
       "      <td>0.0</td>\n",
       "      <td>0.0</td>\n",
       "      <td>0.0</td>\n",
       "      <td>0.0</td>\n",
       "      <td>0.5</td>\n",
       "      <td>0.5</td>\n",
       "    </tr>\n",
       "    <tr>\n",
       "      <th>4</th>\n",
       "      <td>1.0</td>\n",
       "      <td>0.5</td>\n",
       "      <td>0</td>\n",
       "      <td>0.0</td>\n",
       "      <td>1.0</td>\n",
       "      <td>0</td>\n",
       "      <td>0.0</td>\n",
       "      <td>0.0</td>\n",
       "      <td>0.0</td>\n",
       "      <td>0.0</td>\n",
       "      <td>...</td>\n",
       "      <td>0.0</td>\n",
       "      <td>0.0</td>\n",
       "      <td>0.0</td>\n",
       "      <td>0.0</td>\n",
       "      <td>0.0</td>\n",
       "      <td>0.0</td>\n",
       "      <td>0.5</td>\n",
       "      <td>0.0</td>\n",
       "      <td>0.0</td>\n",
       "      <td>0.0</td>\n",
       "    </tr>\n",
       "    <tr>\n",
       "      <th>5</th>\n",
       "      <td>0.0</td>\n",
       "      <td>0.0</td>\n",
       "      <td>0</td>\n",
       "      <td>1.0</td>\n",
       "      <td>0.0</td>\n",
       "      <td>0</td>\n",
       "      <td>0.0</td>\n",
       "      <td>0.0</td>\n",
       "      <td>0.0</td>\n",
       "      <td>0.0</td>\n",
       "      <td>...</td>\n",
       "      <td>0.0</td>\n",
       "      <td>0.0</td>\n",
       "      <td>0.0</td>\n",
       "      <td>0.0</td>\n",
       "      <td>0.0</td>\n",
       "      <td>1.0</td>\n",
       "      <td>0.0</td>\n",
       "      <td>0.0</td>\n",
       "      <td>0.0</td>\n",
       "      <td>0.0</td>\n",
       "    </tr>\n",
       "    <tr>\n",
       "      <th>6</th>\n",
       "      <td>0.0</td>\n",
       "      <td>0.0</td>\n",
       "      <td>0</td>\n",
       "      <td>0.0</td>\n",
       "      <td>0.0</td>\n",
       "      <td>0</td>\n",
       "      <td>0.0</td>\n",
       "      <td>0.0</td>\n",
       "      <td>0.0</td>\n",
       "      <td>0.0</td>\n",
       "      <td>...</td>\n",
       "      <td>1.0</td>\n",
       "      <td>0.0</td>\n",
       "      <td>1.0</td>\n",
       "      <td>0.0</td>\n",
       "      <td>0.0</td>\n",
       "      <td>0.0</td>\n",
       "      <td>0.0</td>\n",
       "      <td>0.0</td>\n",
       "      <td>1.0</td>\n",
       "      <td>0.0</td>\n",
       "    </tr>\n",
       "  </tbody>\n",
       "</table>\n",
       "<p>7 rows × 55 columns</p>\n",
       "</div>"
      ],
      "text/plain": [
       "    's  abe  abenomics  accelerate  ask  be  china  confront  corruption  \\\n",
       "0  0.0  0.0          0         0.0  0.0   0    0.5       0.0         0.0   \n",
       "1  0.0  0.0          0         0.0  0.0   0    0.5       1.0         1.0   \n",
       "2  0.0  0.5          0         0.0  0.0   0    0.0       0.0         0.0   \n",
       "3  0.0  0.0          0         0.0  0.0   0    0.0       0.0         0.0   \n",
       "4  1.0  0.5          0         0.0  1.0   0    0.0       0.0         0.0   \n",
       "5  0.0  0.0          0         1.0  0.0   0    0.0       0.0         0.0   \n",
       "6  0.0  0.0          0         0.0  0.0   0    0.0       0.0         0.0   \n",
       "\n",
       "   country  ...   shirt  strong  thing  tumble  turmoil  value  view  \\\n",
       "0      0.0  ...     0.0     1.0    0.0     0.0      0.0    0.0   0.0   \n",
       "1      0.0  ...     0.0     0.0    0.0     0.0      0.0    0.0   0.0   \n",
       "2      1.0  ...     0.0     0.0    0.0     0.0      1.0    0.0   0.5   \n",
       "3      0.0  ...     0.0     0.0    0.0     1.0      0.0    0.0   0.0   \n",
       "4      0.0  ...     0.0     0.0    0.0     0.0      0.0    0.0   0.5   \n",
       "5      0.0  ...     0.0     0.0    0.0     0.0      0.0    1.0   0.0   \n",
       "6      0.0  ...     1.0     0.0    1.0     0.0      0.0    0.0   0.0   \n",
       "\n",
       "   violence  vladimir  work  \n",
       "0       0.0       0.0   0.0  \n",
       "1       1.0       0.0   0.0  \n",
       "2       0.0       0.0   0.5  \n",
       "3       0.0       0.5   0.5  \n",
       "4       0.0       0.0   0.0  \n",
       "5       0.0       0.0   0.0  \n",
       "6       0.0       1.0   0.0  \n",
       "\n",
       "[7 rows x 55 columns]"
      ]
     },
     "execution_count": 16,
     "metadata": {
      "tags": []
     },
     "output_type": "execute_result"
    }
   ],
   "source": [
    "def dataframe(docs):\n",
    "  index=[0, 1, 2, 3, 4, 5, 6]\n",
    "  dt=[]\n",
    "  for doc in docs:\n",
    "    dt.append(tf_idf_doc(nlp(doc),docs))\n",
    "  df = pd.DataFrame(dt,index=index)\n",
    "  return df\n",
    "\n",
    "dataframe(list_doc)"
   ]
  },
  {
   "cell_type": "markdown",
   "metadata": {
    "colab_type": "text",
    "id": "ZcSnvAhPKHlu"
   },
   "source": [
    "#7.\n",
    "Visualize the TF-IDF, like this:"
   ]
  },
  {
   "cell_type": "code",
   "execution_count": 0,
   "metadata": {
    "colab": {},
    "colab_type": "code",
    "id": "PzJjZnwoKGZK"
   },
   "outputs": [],
   "source": [
    "import numpy as np \n",
    "import seaborn as sns\n",
    "import matplotlib.pyplot as plt\n"
   ]
  },
  {
   "cell_type": "code",
   "execution_count": 18,
   "metadata": {
    "colab": {
     "base_uri": "https://localhost:8080/",
     "height": 379
    },
    "colab_type": "code",
    "id": "uzCF49bJLEYv",
    "outputId": "80a3cc89-d2bb-4736-de50-fae61f0c7d5b"
   },
   "outputs": [
    {
     "data": {
      "text/plain": [
       "<matplotlib.axes._subplots.AxesSubplot at 0x7f002928a358>"
      ]
     },
     "execution_count": 18,
     "metadata": {
      "tags": []
     },
     "output_type": "execute_result"
    },
    {
     "data": {
      "image/png": "[encoded data removed]",
      "text/plain": [
       "<matplotlib.figure.Figure at 0x7f00292bcb38>"
      ]
     },
     "metadata": {
      "tags": []
     },
     "output_type": "display_data"
    }
   ],
   "source": [
    "plt.figure(figsize = (20,5))\n",
    "sns.heatmap(dataframe(list_doc), vmax=1,  vmin=0,  cmap=\"Blues_r\")\n"
   ]
  }
 ],
 "metadata": {
  "colab": {
   "collapsed_sections": [
    "VNjX534FQd4Q"
   ],
   "name": "Assignment #1 - TF-IDF#DavidOrdoñezVivar.ipynb",
   "provenance": [],
   "version": "0.3.2"
  },
  "kernelspec": {
   "display_name": "Python 3",
   "language": "python",
   "name": "python3"
  },
  "language_info": {
   "codemirror_mode": {
    "name": "ipython",
    "version": 3
   },
   "file_extension": ".py",
   "mimetype": "text/x-python",
   "name": "python",
   "nbconvert_exporter": "python",
   "pygments_lexer": "ipython3",
   "version": "3.6.7"
  }
 },
 "nbformat": 4,
 "nbformat_minor": 1
}
